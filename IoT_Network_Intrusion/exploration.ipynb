{
 "cells": [
  {
   "cell_type": "code",
   "execution_count": 1,
   "metadata": {},
   "outputs": [],
   "source": [
    "import pandas as pd"
   ]
  },
  {
   "cell_type": "markdown",
   "metadata": {},
   "source": [
    "Turn pcap files into csv using wireshark"
   ]
  },
  {
   "cell_type": "code",
   "execution_count": 2,
   "metadata": {},
   "outputs": [],
   "source": [
    "df = pd.read_csv(\"data/dos-synflooding-1-dec.csv\")"
   ]
  },
  {
   "cell_type": "code",
   "execution_count": 3,
   "metadata": {},
   "outputs": [
    {
     "data": {
      "text/html": [
       "<div>\n",
       "<style scoped>\n",
       "    .dataframe tbody tr th:only-of-type {\n",
       "        vertical-align: middle;\n",
       "    }\n",
       "\n",
       "    .dataframe tbody tr th {\n",
       "        vertical-align: top;\n",
       "    }\n",
       "\n",
       "    .dataframe thead th {\n",
       "        text-align: right;\n",
       "    }\n",
       "</style>\n",
       "<table border=\"1\" class=\"dataframe\">\n",
       "  <thead>\n",
       "    <tr style=\"text-align: right;\">\n",
       "      <th></th>\n",
       "      <th>No.</th>\n",
       "      <th>Time</th>\n",
       "      <th>Source</th>\n",
       "      <th>Destination</th>\n",
       "      <th>Protocol</th>\n",
       "      <th>Length</th>\n",
       "      <th>Info</th>\n",
       "    </tr>\n",
       "  </thead>\n",
       "  <tbody>\n",
       "    <tr>\n",
       "      <th>0</th>\n",
       "      <td>1</td>\n",
       "      <td>0.000000</td>\n",
       "      <td>192.168.0.13</td>\n",
       "      <td>192.168.0.1</td>\n",
       "      <td>ICMP</td>\n",
       "      <td>146</td>\n",
       "      <td>Echo (ping) request  id=0x4d01, seq=0/0, ttl=6...</td>\n",
       "    </tr>\n",
       "    <tr>\n",
       "      <th>1</th>\n",
       "      <td>2</td>\n",
       "      <td>0.000545</td>\n",
       "      <td>192.168.0.1</td>\n",
       "      <td>192.168.0.13</td>\n",
       "      <td>ICMP</td>\n",
       "      <td>146</td>\n",
       "      <td>Echo (ping) reply    id=0x4d01, seq=0/0, ttl=6...</td>\n",
       "    </tr>\n",
       "    <tr>\n",
       "      <th>2</th>\n",
       "      <td>3</td>\n",
       "      <td>0.008112</td>\n",
       "      <td>192.168.0.13</td>\n",
       "      <td>192.168.0.23</td>\n",
       "      <td>TCP</td>\n",
       "      <td>843</td>\n",
       "      <td>9020  &gt;  44144 [PSH, ACK] Seq=1 Ack=1 Win=1869...</td>\n",
       "    </tr>\n",
       "    <tr>\n",
       "      <th>3</th>\n",
       "      <td>4</td>\n",
       "      <td>0.008999</td>\n",
       "      <td>192.168.0.13</td>\n",
       "      <td>192.168.0.23</td>\n",
       "      <td>TCP</td>\n",
       "      <td>839</td>\n",
       "      <td>[TCP Retransmission] 9020  &gt;  44144 [PSH, ACK]...</td>\n",
       "    </tr>\n",
       "    <tr>\n",
       "      <th>4</th>\n",
       "      <td>5</td>\n",
       "      <td>0.011836</td>\n",
       "      <td>192.168.0.23</td>\n",
       "      <td>192.168.0.13</td>\n",
       "      <td>TCP</td>\n",
       "      <td>110</td>\n",
       "      <td>44144  &gt;  9020 [ACK] Seq=1 Ack=730 Win=32678 L...</td>\n",
       "    </tr>\n",
       "    <tr>\n",
       "      <th>...</th>\n",
       "      <td>...</td>\n",
       "      <td>...</td>\n",
       "      <td>...</td>\n",
       "      <td>...</td>\n",
       "      <td>...</td>\n",
       "      <td>...</td>\n",
       "      <td>...</td>\n",
       "    </tr>\n",
       "    <tr>\n",
       "      <th>40783</th>\n",
       "      <td>40784</td>\n",
       "      <td>43.715831</td>\n",
       "      <td>192.168.0.23</td>\n",
       "      <td>192.168.0.13</td>\n",
       "      <td>TCP</td>\n",
       "      <td>114</td>\n",
       "      <td>[TCP Dup ACK 40783#1] 44144  &gt;  9020 [ACK] Seq...</td>\n",
       "    </tr>\n",
       "    <tr>\n",
       "      <th>40784</th>\n",
       "      <td>40785</td>\n",
       "      <td>43.758200</td>\n",
       "      <td>192.168.0.13</td>\n",
       "      <td>192.168.0.23</td>\n",
       "      <td>TCP</td>\n",
       "      <td>923</td>\n",
       "      <td>9020  &gt;  44144 [PSH, ACK] Seq=881871 Ack=1 Win...</td>\n",
       "    </tr>\n",
       "    <tr>\n",
       "      <th>40785</th>\n",
       "      <td>40786</td>\n",
       "      <td>43.758766</td>\n",
       "      <td>192.168.0.13</td>\n",
       "      <td>192.168.0.23</td>\n",
       "      <td>TCP</td>\n",
       "      <td>919</td>\n",
       "      <td>[TCP Retransmission] 9020  &gt;  44144 [PSH, ACK]...</td>\n",
       "    </tr>\n",
       "    <tr>\n",
       "      <th>40786</th>\n",
       "      <td>40787</td>\n",
       "      <td>43.761289</td>\n",
       "      <td>192.168.0.23</td>\n",
       "      <td>192.168.0.13</td>\n",
       "      <td>TCP</td>\n",
       "      <td>110</td>\n",
       "      <td>44144  &gt;  9020 [ACK] Seq=1 Ack=882680 Win=3267...</td>\n",
       "    </tr>\n",
       "    <tr>\n",
       "      <th>40787</th>\n",
       "      <td>40788</td>\n",
       "      <td>43.761697</td>\n",
       "      <td>192.168.0.23</td>\n",
       "      <td>192.168.0.13</td>\n",
       "      <td>TCP</td>\n",
       "      <td>114</td>\n",
       "      <td>[TCP Dup ACK 40787#1] 44144  &gt;  9020 [ACK] Seq...</td>\n",
       "    </tr>\n",
       "  </tbody>\n",
       "</table>\n",
       "<p>40788 rows × 7 columns</p>\n",
       "</div>"
      ],
      "text/plain": [
       "         No.       Time        Source   Destination Protocol  Length  \\\n",
       "0          1   0.000000  192.168.0.13   192.168.0.1     ICMP     146   \n",
       "1          2   0.000545   192.168.0.1  192.168.0.13     ICMP     146   \n",
       "2          3   0.008112  192.168.0.13  192.168.0.23      TCP     843   \n",
       "3          4   0.008999  192.168.0.13  192.168.0.23      TCP     839   \n",
       "4          5   0.011836  192.168.0.23  192.168.0.13      TCP     110   \n",
       "...      ...        ...           ...           ...      ...     ...   \n",
       "40783  40784  43.715831  192.168.0.23  192.168.0.13      TCP     114   \n",
       "40784  40785  43.758200  192.168.0.13  192.168.0.23      TCP     923   \n",
       "40785  40786  43.758766  192.168.0.13  192.168.0.23      TCP     919   \n",
       "40786  40787  43.761289  192.168.0.23  192.168.0.13      TCP     110   \n",
       "40787  40788  43.761697  192.168.0.23  192.168.0.13      TCP     114   \n",
       "\n",
       "                                                    Info  \n",
       "0      Echo (ping) request  id=0x4d01, seq=0/0, ttl=6...  \n",
       "1      Echo (ping) reply    id=0x4d01, seq=0/0, ttl=6...  \n",
       "2      9020  >  44144 [PSH, ACK] Seq=1 Ack=1 Win=1869...  \n",
       "3      [TCP Retransmission] 9020  >  44144 [PSH, ACK]...  \n",
       "4      44144  >  9020 [ACK] Seq=1 Ack=730 Win=32678 L...  \n",
       "...                                                  ...  \n",
       "40783  [TCP Dup ACK 40783#1] 44144  >  9020 [ACK] Seq...  \n",
       "40784  9020  >  44144 [PSH, ACK] Seq=881871 Ack=1 Win...  \n",
       "40785  [TCP Retransmission] 9020  >  44144 [PSH, ACK]...  \n",
       "40786  44144  >  9020 [ACK] Seq=1 Ack=882680 Win=3267...  \n",
       "40787  [TCP Dup ACK 40787#1] 44144  >  9020 [ACK] Seq...  \n",
       "\n",
       "[40788 rows x 7 columns]"
      ]
     },
     "execution_count": 3,
     "metadata": {},
     "output_type": "execute_result"
    }
   ],
   "source": [
    "df"
   ]
  },
  {
   "cell_type": "code",
   "execution_count": 4,
   "metadata": {},
   "outputs": [
    {
     "data": {
      "text/plain": [
       "TCP        40586\n",
       "IPv4          53\n",
       "TLSv1.2       27\n",
       "UDP           26\n",
       "ARP           17\n",
       "HTTP          11\n",
       "MDNS           9\n",
       "IGMPv2         7\n",
       "RTSP           7\n",
       "DNS            7\n",
       "ICMP           6\n",
       "0x0820         2\n",
       "BROWSER        2\n",
       "0x0873         2\n",
       "0x0000         2\n",
       "0x7f59         1\n",
       "0x880a         1\n",
       "0x859c         1\n",
       "0x3e01         1\n",
       "0xd802         1\n",
       "MIPv6          1\n",
       "0xd144         1\n",
       "0x084c         1\n",
       "0x1441         1\n",
       "0x99ca         1\n",
       "0x9980         1\n",
       "0x8839         1\n",
       "0xfd54         1\n",
       "0x0854         1\n",
       "0x0812         1\n",
       "0xe712         1\n",
       "0xd142         1\n",
       "0x229b         1\n",
       "0x086c         1\n",
       "0x1bb4         1\n",
       "0x0900         1\n",
       "0xb7bb         1\n",
       "0x088e         1\n",
       "0x0840         1\n",
       "Name: Protocol, dtype: int64"
      ]
     },
     "execution_count": 4,
     "metadata": {},
     "output_type": "execute_result"
    }
   ],
   "source": [
    "df['Protocol'].value_counts()"
   ]
  },
  {
   "cell_type": "code",
   "execution_count": 5,
   "metadata": {},
   "outputs": [
    {
     "data": {
      "text/plain": [
       "<AxesSubplot:>"
      ]
     },
     "execution_count": 5,
     "metadata": {},
     "output_type": "execute_result"
    },
    {
     "data": {
      "image/png": "[encoded data removed]",
      "text/plain": [
       "<Figure size 432x288 with 1 Axes>"
      ]
     },
     "metadata": {
      "needs_background": "light"
     },
     "output_type": "display_data"
    }
   ],
   "source": [
    "df['Time'].hist(bins=30)"
   ]
  },
  {
   "cell_type": "code",
   "execution_count": 6,
   "metadata": {},
   "outputs": [
    {
     "data": {
      "text/plain": [
       "192.168.0.13         19715\n",
       "192.168.0.23          1353\n",
       "192.168.0.1            830\n",
       "172.217.31.133          26\n",
       "Sichuani_4b:ae:ba       24\n",
       "                     ...  \n",
       "222.28.247.6             1\n",
       "222.70.176.243           1\n",
       "222.135.99.217           1\n",
       "222.195.117.65           1\n",
       "222.37.248.120           1\n",
       "Name: Source, Length: 17473, dtype: int64"
      ]
     },
     "execution_count": 6,
     "metadata": {},
     "output_type": "execute_result"
    }
   ],
   "source": [
    "df['Source'].value_counts()"
   ]
  },
  {
   "cell_type": "code",
   "execution_count": 7,
   "metadata": {},
   "outputs": [
    {
     "data": {
      "text/plain": [
       "192.168.0.13         20049\n",
       "192.168.0.23          1941\n",
       "192.168.0.14           847\n",
       "EFMNetwo_d7:1c:56       26\n",
       "172.217.31.133          19\n",
       "                     ...  \n",
       "222.158.240.104          1\n",
       "222.28.233.88            1\n",
       "222.37.223.142           1\n",
       "222.171.158.148          1\n",
       "222.37.248.120           1\n",
       "Name: Destination, Length: 17306, dtype: int64"
      ]
     },
     "execution_count": 7,
     "metadata": {},
     "output_type": "execute_result"
    }
   ],
   "source": [
    "df['Destination'].value_counts()"
   ]
  },
  {
   "cell_type": "code",
   "execution_count": 8,
   "metadata": {},
   "outputs": [
    {
     "data": {
      "text/plain": [
       "<AxesSubplot:>"
      ]
     },
     "execution_count": 8,
     "metadata": {},
     "output_type": "execute_result"
    },
    {
     "data": {
      "image/png": "[encoded data removed]",
      "text/plain": [
       "<Figure size 432x288 with 1 Axes>"
      ]
     },
     "metadata": {
      "needs_background": "light"
     },
     "output_type": "display_data"
    }
   ],
   "source": [
    "df['Length'].hist(bins=30)"
   ]
  },
  {
   "cell_type": "code",
   "execution_count": 9,
   "metadata": {},
   "outputs": [
    {
     "data": {
      "text/plain": [
       "Ethernet II                                                                                                29\n",
       "Application Data                                                                                           16\n",
       "HTTP/1.0 200 OK  (text/html)                                                                               11\n",
       "554  >  7135 [SYN, ACK] Seq=0 Ack=1 Win=14600 Len=0 MSS=1460                                                9\n",
       "554  >  4475 [SYN, ACK] Seq=0 Ack=1 Win=14600 Len=0 MSS=1460                                                8\n",
       "                                                                                                           ..\n",
       "[TCP Dup ACK 29791#1] 44144  >  9020 [ACK] Seq=1 Ack=704787 Win=32678 Len=0 TSval=472249217 TSecr=11508     1\n",
       "9020  >  44144 [ACK] Seq=838335 Ack=1 Win=1869 Len=1388 TSval=12133 TSecr=472255449                         1\n",
       "1940  >  554 [SYN] Seq=0 Win=1103 Len=0                                                                     1\n",
       "6107  >  554 [SYN] Seq=0 Win=5474 Len=0                                                                     1\n",
       "8264  >  554 [SYN] Seq=0 Win=5612 Len=0                                                                     1\n",
       "Name: Info, Length: 29934, dtype: int64"
      ]
     },
     "execution_count": 9,
     "metadata": {},
     "output_type": "execute_result"
    }
   ],
   "source": [
    "df['Info'].value_counts()"
   ]
  }
 ],
 "metadata": {
  "kernelspec": {
   "display_name": "Python 3",
   "language": "python",
   "name": "python3"
  },
  "language_info": {
   "codemirror_mode": {
    "name": "ipython",
    "version": 3
   },
   "file_extension": ".py",
   "mimetype": "text/x-python",
   "name": "python",
   "nbconvert_exporter": "python",
   "pygments_lexer": "ipython3",
   "version": "3.8.5"
  }
 },
 "nbformat": 4,
 "nbformat_minor": 4
}
