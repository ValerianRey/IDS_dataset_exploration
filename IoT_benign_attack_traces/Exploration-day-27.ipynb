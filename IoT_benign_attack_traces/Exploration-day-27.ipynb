{
 "cells": [
  {
   "cell_type": "code",
   "execution_count": 1,
   "metadata": {},
   "outputs": [],
   "source": [
    "import pandas as pd"
   ]
  },
  {
   "cell_type": "code",
   "execution_count": 2,
   "metadata": {},
   "outputs": [],
   "source": [
    "path = './data/18-10-27_names.csv'"
   ]
  },
  {
   "cell_type": "code",
   "execution_count": 3,
   "metadata": {},
   "outputs": [
    {
     "name": "stderr",
     "output_type": "stream",
     "text": [
      "b'Skipping line 538161: expected 12 fields, saw 26\\n'\n"
     ]
    }
   ],
   "source": [
    "df = pd.read_csv(path, sep='\\\\', encoding = \"ISO-8859-1\", error_bad_lines=False)"
   ]
  },
  {
   "cell_type": "code",
   "execution_count": 4,
   "metadata": {},
   "outputs": [],
   "source": [
    "df = df.rename(columns={\"frame.time_relative\": \"time\",\n",
    "                        \"_ws.col.Protocol\": \"protocol\",\n",
    "                        \"frame.len\": \"len\",\n",
    "                        \"_ws.col.Info\": \"info\"})"
   ]
  },
  {
   "cell_type": "code",
   "execution_count": 5,
   "metadata": {},
   "outputs": [
    {
     "data": {
      "text/html": [
       "<div>\n",
       "<style scoped>\n",
       "    .dataframe tbody tr th:only-of-type {\n",
       "        vertical-align: middle;\n",
       "    }\n",
       "\n",
       "    .dataframe tbody tr th {\n",
       "        vertical-align: top;\n",
       "    }\n",
       "\n",
       "    .dataframe thead th {\n",
       "        text-align: right;\n",
       "    }\n",
       "</style>\n",
       "<table border=\"1\" class=\"dataframe\">\n",
       "  <thead>\n",
       "    <tr style=\"text-align: right;\">\n",
       "      <th></th>\n",
       "      <th>time</th>\n",
       "      <th>eth.src</th>\n",
       "      <th>eth.src_resolved</th>\n",
       "      <th>eth.dst</th>\n",
       "      <th>eth.dst_resolved</th>\n",
       "      <th>ip.src</th>\n",
       "      <th>ip.src_host</th>\n",
       "      <th>ip.dst</th>\n",
       "      <th>ip.dst_host</th>\n",
       "      <th>protocol</th>\n",
       "      <th>len</th>\n",
       "      <th>info</th>\n",
       "    </tr>\n",
       "  </thead>\n",
       "  <tbody>\n",
       "    <tr>\n",
       "      <th>0</th>\n",
       "      <td>0.000000</td>\n",
       "      <td>14:cc:20:51:33:ea</td>\n",
       "      <td>Tp-LinkT_51:33:ea</td>\n",
       "      <td>e0:76:d0:3f:00:ae</td>\n",
       "      <td>AMPAKTec_3f:00:ae</td>\n",
       "      <td>54.85.78.92</td>\n",
       "      <td>54.85.78.92</td>\n",
       "      <td>192.168.1.216</td>\n",
       "      <td>192.168.1.216</td>\n",
       "      <td>TLSv1.2</td>\n",
       "      <td>233</td>\n",
       "      <td>Application Data</td>\n",
       "    </tr>\n",
       "    <tr>\n",
       "      <th>1</th>\n",
       "      <td>0.136005</td>\n",
       "      <td>e0:76:d0:3f:00:ae</td>\n",
       "      <td>AMPAKTec_3f:00:ae</td>\n",
       "      <td>14:cc:20:51:33:ea</td>\n",
       "      <td>Tp-LinkT_51:33:ea</td>\n",
       "      <td>192.168.1.216</td>\n",
       "      <td>192.168.1.216</td>\n",
       "      <td>54.85.78.92</td>\n",
       "      <td>54.85.78.92</td>\n",
       "      <td>TLSv1.2</td>\n",
       "      <td>196</td>\n",
       "      <td>Application Data</td>\n",
       "    </tr>\n",
       "    <tr>\n",
       "      <th>2</th>\n",
       "      <td>0.179176</td>\n",
       "      <td>ec:1a:59:83:28:11</td>\n",
       "      <td>BelkinIn_83:28:11</td>\n",
       "      <td>14:cc:20:51:33:ea</td>\n",
       "      <td>Tp-LinkT_51:33:ea</td>\n",
       "      <td>192.168.1.165</td>\n",
       "      <td>192.168.1.165</td>\n",
       "      <td>174.129.217.97</td>\n",
       "      <td>174.129.217.97</td>\n",
       "      <td>TCP</td>\n",
       "      <td>66</td>\n",
       "      <td>4998 â 3478 [FIN, ACK] Seq=1 Ack=1 Win=2920 ...</td>\n",
       "    </tr>\n",
       "    <tr>\n",
       "      <th>3</th>\n",
       "      <td>0.181720</td>\n",
       "      <td>ec:1a:59:83:28:11</td>\n",
       "      <td>BelkinIn_83:28:11</td>\n",
       "      <td>14:cc:20:51:33:ea</td>\n",
       "      <td>Tp-LinkT_51:33:ea</td>\n",
       "      <td>192.168.1.165</td>\n",
       "      <td>192.168.1.165</td>\n",
       "      <td>192.168.1.1</td>\n",
       "      <td>192.168.1.1</td>\n",
       "      <td>DNS</td>\n",
       "      <td>68</td>\n",
       "      <td>Standard query 0x074d A xbcs.net</td>\n",
       "    </tr>\n",
       "    <tr>\n",
       "      <th>4</th>\n",
       "      <td>0.183805</td>\n",
       "      <td>14:cc:20:51:33:ea</td>\n",
       "      <td>Tp-LinkT_51:33:ea</td>\n",
       "      <td>ec:1a:59:83:28:11</td>\n",
       "      <td>BelkinIn_83:28:11</td>\n",
       "      <td>192.168.1.1</td>\n",
       "      <td>192.168.1.1</td>\n",
       "      <td>192.168.1.165</td>\n",
       "      <td>192.168.1.165</td>\n",
       "      <td>DNS</td>\n",
       "      <td>84</td>\n",
       "      <td>Standard query response 0x074d A xbcs.net A 18...</td>\n",
       "    </tr>\n",
       "  </tbody>\n",
       "</table>\n",
       "</div>"
      ],
      "text/plain": [
       "       time            eth.src   eth.src_resolved            eth.dst  \\\n",
       "0  0.000000  14:cc:20:51:33:ea  Tp-LinkT_51:33:ea  e0:76:d0:3f:00:ae   \n",
       "1  0.136005  e0:76:d0:3f:00:ae  AMPAKTec_3f:00:ae  14:cc:20:51:33:ea   \n",
       "2  0.179176  ec:1a:59:83:28:11  BelkinIn_83:28:11  14:cc:20:51:33:ea   \n",
       "3  0.181720  ec:1a:59:83:28:11  BelkinIn_83:28:11  14:cc:20:51:33:ea   \n",
       "4  0.183805  14:cc:20:51:33:ea  Tp-LinkT_51:33:ea  ec:1a:59:83:28:11   \n",
       "\n",
       "    eth.dst_resolved         ip.src    ip.src_host          ip.dst  \\\n",
       "0  AMPAKTec_3f:00:ae    54.85.78.92    54.85.78.92   192.168.1.216   \n",
       "1  Tp-LinkT_51:33:ea  192.168.1.216  192.168.1.216     54.85.78.92   \n",
       "2  Tp-LinkT_51:33:ea  192.168.1.165  192.168.1.165  174.129.217.97   \n",
       "3  Tp-LinkT_51:33:ea  192.168.1.165  192.168.1.165     192.168.1.1   \n",
       "4  BelkinIn_83:28:11    192.168.1.1    192.168.1.1   192.168.1.165   \n",
       "\n",
       "      ip.dst_host protocol  len  \\\n",
       "0   192.168.1.216  TLSv1.2  233   \n",
       "1     54.85.78.92  TLSv1.2  196   \n",
       "2  174.129.217.97      TCP   66   \n",
       "3     192.168.1.1      DNS   68   \n",
       "4   192.168.1.165      DNS   84   \n",
       "\n",
       "                                                info  \n",
       "0                                   Application Data  \n",
       "1                                   Application Data  \n",
       "2  4998 â 3478 [FIN, ACK] Seq=1 Ack=1 Win=2920 ...  \n",
       "3                   Standard query 0x074d A xbcs.net  \n",
       "4  Standard query response 0x074d A xbcs.net A 18...  "
      ]
     },
     "execution_count": 5,
     "metadata": {},
     "output_type": "execute_result"
    }
   ],
   "source": [
    "df.head()"
   ]
  },
  {
   "cell_type": "code",
   "execution_count": 6,
   "metadata": {},
   "outputs": [
    {
     "data": {
      "text/plain": [
       "<AxesSubplot:>"
      ]
     },
     "execution_count": 6,
     "metadata": {},
     "output_type": "execute_result"
    },
    {
     "data": {
      "image/png": "[encoded data removed]",
      "text/plain": [
       "<Figure size 432x288 with 1 Axes>"
      ]
     },
     "metadata": {
      "needs_background": "light"
     },
     "output_type": "display_data"
    }
   ],
   "source": [
    "df['protocol'].value_counts()[:20].plot(kind='bar')"
   ]
  },
  {
   "cell_type": "code",
   "execution_count": 7,
   "metadata": {},
   "outputs": [
    {
     "data": {
      "text/plain": [
       "381"
      ]
     },
     "execution_count": 7,
     "metadata": {},
     "output_type": "execute_result"
    }
   ],
   "source": [
    "ip_sources = df['ip.src'].value_counts()\n",
    "len(ip_sources)"
   ]
  },
  {
   "cell_type": "code",
   "execution_count": 8,
   "metadata": {},
   "outputs": [
    {
     "data": {
      "text/plain": [
       "<AxesSubplot:>"
      ]
     },
     "execution_count": 8,
     "metadata": {},
     "output_type": "execute_result"
    },
    {
     "data": {
      "image/png": "[encoded data removed]",
      "text/plain": [
       "<Figure size 432x288 with 1 Axes>"
      ]
     },
     "metadata": {
      "needs_background": "light"
     },
     "output_type": "display_data"
    }
   ],
   "source": [
    "ip_sources[:30].plot(kind='bar')"
   ]
  },
  {
   "cell_type": "code",
   "execution_count": 9,
   "metadata": {},
   "outputs": [
    {
     "data": {
      "text/plain": [
       "396"
      ]
     },
     "execution_count": 9,
     "metadata": {},
     "output_type": "execute_result"
    }
   ],
   "source": [
    "ip_destinations = df['ip.dst'].value_counts()\n",
    "len(ip_destinations)"
   ]
  },
  {
   "cell_type": "code",
   "execution_count": 10,
   "metadata": {},
   "outputs": [
    {
     "data": {
      "text/plain": [
       "<AxesSubplot:>"
      ]
     },
     "execution_count": 10,
     "metadata": {},
     "output_type": "execute_result"
    },
    {
     "data": {
      "image/png": "[encoded data removed]",
      "text/plain": [
       "<Figure size 432x288 with 1 Axes>"
      ]
     },
     "metadata": {
      "needs_background": "light"
     },
     "output_type": "display_data"
    }
   ],
   "source": [
    "ip_destinations[:50].plot(kind='bar')"
   ]
  },
  {
   "cell_type": "code",
   "execution_count": 11,
   "metadata": {},
   "outputs": [
    {
     "data": {
      "text/plain": [
       "28"
      ]
     },
     "execution_count": 11,
     "metadata": {},
     "output_type": "execute_result"
    }
   ],
   "source": [
    "len(df['eth.src'].value_counts())"
   ]
  },
  {
   "cell_type": "code",
   "execution_count": 12,
   "metadata": {},
   "outputs": [
    {
     "data": {
      "text/plain": [
       "<AxesSubplot:>"
      ]
     },
     "execution_count": 12,
     "metadata": {},
     "output_type": "execute_result"
    },
    {
     "data": {
      "image/png": "[encoded data removed]",
      "text/plain": [
       "<Figure size 432x288 with 1 Axes>"
      ]
     },
     "metadata": {
      "needs_background": "light"
     },
     "output_type": "display_data"
    }
   ],
   "source": [
    "df['eth.src'].value_counts()[:50].plot(kind='bar')"
   ]
  },
  {
   "cell_type": "code",
   "execution_count": 13,
   "metadata": {},
   "outputs": [
    {
     "data": {
      "text/plain": [
       "<AxesSubplot:>"
      ]
     },
     "execution_count": 13,
     "metadata": {},
     "output_type": "execute_result"
    },
    {
     "data": {
      "image/png": "[encoded data removed]",
      "text/plain": [
       "<Figure size 432x288 with 1 Axes>"
      ]
     },
     "metadata": {
      "needs_background": "light"
     },
     "output_type": "display_data"
    }
   ],
   "source": [
    "df['eth.dst'].value_counts()[:50].plot(kind='bar')"
   ]
  },
  {
   "cell_type": "code",
   "execution_count": 14,
   "metadata": {},
   "outputs": [
    {
     "data": {
      "text/plain": [
       "<AxesSubplot:>"
      ]
     },
     "execution_count": 14,
     "metadata": {},
     "output_type": "execute_result"
    },
    {
     "data": {
      "image/png": "[encoded data removed]",
      "text/plain": [
       "<Figure size 432x288 with 1 Axes>"
      ]
     },
     "metadata": {
      "needs_background": "light"
     },
     "output_type": "display_data"
    }
   ],
   "source": [
    "df['eth.src_resolved'].value_counts()[:50].plot(kind='bar')"
   ]
  },
  {
   "cell_type": "code",
   "execution_count": 15,
   "metadata": {},
   "outputs": [
    {
     "data": {
      "text/plain": [
       "<AxesSubplot:>"
      ]
     },
     "execution_count": 15,
     "metadata": {},
     "output_type": "execute_result"
    },
    {
     "data": {
      "image/png": "[encoded data removed]",
      "text/plain": [
       "<Figure size 432x288 with 1 Axes>"
      ]
     },
     "metadata": {
      "needs_background": "light"
     },
     "output_type": "display_data"
    }
   ],
   "source": [
    "df['eth.dst_resolved'].value_counts()[:30].plot(kind='bar')"
   ]
  },
  {
   "cell_type": "code",
   "execution_count": 16,
   "metadata": {},
   "outputs": [
    {
     "data": {
      "text/plain": [
       "192.168.1.165      206881\n",
       "239.255.255.250    163745\n",
       "192.168.1.119      149384\n",
       "192.168.1.245      121936\n",
       "174.129.217.97      70157\n",
       "                    ...  \n",
       "212.83.145.32           1\n",
       "85.114.128.137          1\n",
       "106.10.186.201          1\n",
       "139.162.12.72           1\n",
       "150.101.178.79          1\n",
       "Name: ip.dst, Length: 396, dtype: int64"
      ]
     },
     "execution_count": 16,
     "metadata": {},
     "output_type": "execute_result"
    }
   ],
   "source": [
    "df['ip.dst'].value_counts()"
   ]
  },
  {
   "cell_type": "markdown",
   "metadata": {},
   "source": [
    "Next: check the packet that raised a warning when running tshark (1479336)\n",
    "\n",
    "mac name resolution"
   ]
  },
  {
   "cell_type": "markdown",
   "metadata": {},
   "source": [
    "### Packets that raise a warning when running tshark"
   ]
  },
  {
   "cell_type": "code",
   "execution_count": 17,
   "metadata": {},
   "outputs": [
    {
     "data": {
      "text/plain": [
       "time                          65770.7\n",
       "eth.src             00:17:88:2b:9a:25\n",
       "eth.src_resolved    PhilipsL_2b:9a:25\n",
       "eth.dst             ec:1a:59:83:28:11\n",
       "eth.dst_resolved    BelkinIn_83:28:11\n",
       "ip.src                  192.168.1.129\n",
       "ip.src_host             192.168.1.129\n",
       "ip.dst                  192.168.1.165\n",
       "ip.dst_host             192.168.1.165\n",
       "protocol                         SSDP\n",
       "len                               339\n",
       "info                 HTTP/1.1 200 OK \n",
       "Name: 1479335, dtype: object"
      ]
     },
     "execution_count": 17,
     "metadata": {},
     "output_type": "execute_result"
    }
   ],
   "source": [
    "df.iloc[1479335]"
   ]
  },
  {
   "cell_type": "code",
   "execution_count": 18,
   "metadata": {},
   "outputs": [
    {
     "data": {
      "text/plain": [
       "'HTTP/1.1 200 OK '"
      ]
     },
     "execution_count": 18,
     "metadata": {},
     "output_type": "execute_result"
    }
   ],
   "source": [
    "df.iloc[1479335]['info']"
   ]
  },
  {
   "cell_type": "markdown",
   "metadata": {},
   "source": [
    "Seems like the info column is too long (>500)"
   ]
  },
  {
   "cell_type": "markdown",
   "metadata": {},
   "source": [
    "### Now we try to split the dataset based on IP addresses of the IoT devices"
   ]
  },
  {
   "cell_type": "markdown",
   "metadata": {},
   "source": [
    "#### Top 30 source private IP addresses"
   ]
  },
  {
   "cell_type": "code",
   "execution_count": 19,
   "metadata": {},
   "outputs": [
    {
     "data": {
      "text/plain": [
       "<AxesSubplot:>"
      ]
     },
     "execution_count": 19,
     "metadata": {},
     "output_type": "execute_result"
    },
    {
     "data": {
      "image/png": "[encoded data removed]",
      "text/plain": [
       "<Figure size 432x288 with 1 Axes>"
      ]
     },
     "metadata": {
      "needs_background": "light"
     },
     "output_type": "display_data"
    }
   ],
   "source": [
    "ip_sources[ip_sources.index.str.startswith('192.168.')][:30].plot(kind='bar')"
   ]
  },
  {
   "cell_type": "markdown",
   "metadata": {},
   "source": [
    "#### Top 30 source public IP addresses"
   ]
  },
  {
   "cell_type": "code",
   "execution_count": 20,
   "metadata": {},
   "outputs": [
    {
     "data": {
      "text/plain": [
       "<AxesSubplot:>"
      ]
     },
     "execution_count": 20,
     "metadata": {},
     "output_type": "execute_result"
    },
    {
     "data": {
      "image/png": "[encoded data removed]",
      "text/plain": [
       "<Figure size 432x288 with 1 Axes>"
      ]
     },
     "metadata": {
      "needs_background": "light"
     },
     "output_type": "display_data"
    }
   ],
   "source": [
    "ip_sources[~ ip_sources.index.str.startswith('192.168.')][:30].plot(kind='bar')"
   ]
  },
  {
   "cell_type": "markdown",
   "metadata": {},
   "source": [
    "#### 192.168.1.118 is a random IoT device, try to understand with who it communicates in the LAN"
   ]
  },
  {
   "cell_type": "code",
   "execution_count": 21,
   "metadata": {},
   "outputs": [
    {
     "data": {
      "text/plain": [
       "LifiLabs_01:83:08    8011\n",
       "Name: eth.src_resolved, dtype: int64"
      ]
     },
     "execution_count": 21,
     "metadata": {},
     "output_type": "execute_result"
    }
   ],
   "source": [
    "df[df['ip.src'] == '192.168.1.118']['eth.src_resolved'].value_counts()"
   ]
  },
  {
   "cell_type": "markdown",
   "metadata": {},
   "source": [
    "192.168.1.118 is probably a LIFX smart lamp (its MAC address is from Lifilabs)."
   ]
  },
  {
   "cell_type": "code",
   "execution_count": 22,
   "metadata": {},
   "outputs": [
    {
     "data": {
      "text/plain": [
       "Tp-LinkT_51:33:ea    7905\n",
       "Name: eth.src_resolved, dtype: int64"
      ]
     },
     "execution_count": 22,
     "metadata": {},
     "output_type": "execute_result"
    }
   ],
   "source": [
    "df[df['ip.dst'] == '192.168.1.118']['eth.src_resolved'].value_counts()"
   ]
  },
  {
   "cell_type": "markdown",
   "metadata": {},
   "source": [
    "It looks like the device with MAC 51:33:ea is the router, of the brand TP-Link"
   ]
  },
  {
   "cell_type": "code",
   "execution_count": 23,
   "metadata": {},
   "outputs": [
    {
     "data": {
      "text/plain": [
       "606        104.198.46.246\n",
       "609         192.168.1.255\n",
       "610        104.198.46.246\n",
       "1254       104.198.46.246\n",
       "1264        192.168.1.255\n",
       "                ...      \n",
       "1934266    104.198.46.246\n",
       "1935222    104.198.46.246\n",
       "1935233    104.198.46.246\n",
       "1935245     192.168.1.255\n",
       "1935246    104.198.46.246\n",
       "Name: ip.dst, Length: 8011, dtype: object"
      ]
     },
     "execution_count": 23,
     "metadata": {},
     "output_type": "execute_result"
    }
   ],
   "source": [
    "destinations = df[df['ip.src'] == '192.168.1.118']['ip.dst']\n",
    "destinations"
   ]
  },
  {
   "cell_type": "code",
   "execution_count": 24,
   "metadata": {},
   "outputs": [
    {
     "data": {
      "text/plain": [
       "192.168.1.255    1780\n",
       "192.168.1.1       302\n",
       "Name: ip.dst, dtype: int64"
      ]
     },
     "execution_count": 24,
     "metadata": {},
     "output_type": "execute_result"
    }
   ],
   "source": [
    "destinations[destinations.str.startswith('192.168.')].value_counts()"
   ]
  },
  {
   "cell_type": "markdown",
   "metadata": {},
   "source": [
    "There are only 2 LAN IP destinations for 192.168.1.118: 192.168.1.1 and 192.168.1.255 (I think these are the router private IP address and the LAN broadcast IP address)"
   ]
  },
  {
   "cell_type": "code",
   "execution_count": 25,
   "metadata": {},
   "outputs": [
    {
     "data": {
      "text/plain": [
       "DNS     298\n",
       "DHCP      4\n",
       "Name: protocol, dtype: int64"
      ]
     },
     "execution_count": 25,
     "metadata": {},
     "output_type": "execute_result"
    }
   ],
   "source": [
    "df[(df['ip.src'] == '192.168.1.118') & (df['ip.dst'] == '192.168.1.1')]['protocol'].value_counts()"
   ]
  },
  {
   "cell_type": "markdown",
   "metadata": {},
   "source": [
    "As we can see this communication was only used for DNS and DHCP"
   ]
  },
  {
   "cell_type": "code",
   "execution_count": 26,
   "metadata": {},
   "outputs": [
    {
     "data": {
      "text/plain": [
       "UDP             1193\n",
       "ADwin Config     587\n",
       "Name: protocol, dtype: int64"
      ]
     },
     "execution_count": 26,
     "metadata": {},
     "output_type": "execute_result"
    }
   ],
   "source": [
    "df[(df['ip.src'] == '192.168.1.118') & (df['ip.dst'] == '192.168.1.255')]['protocol'].value_counts()"
   ]
  },
  {
   "cell_type": "markdown",
   "metadata": {},
   "source": [
    "???"
   ]
  },
  {
   "cell_type": "code",
   "execution_count": 27,
   "metadata": {},
   "outputs": [
    {
     "data": {
      "text/plain": [
       "104.198.46.246     5334\n",
       "8.8.8.8             298\n",
       "220.158.215.21       16\n",
       "45.76.113.31         15\n",
       "43.245.48.27         14\n",
       "                   ... \n",
       "106.10.186.201        1\n",
       "150.101.221.106       1\n",
       "159.69.4.181          1\n",
       "74.117.214.3          1\n",
       "144.217.65.182        1\n",
       "Name: ip.dst, Length: 64, dtype: int64"
      ]
     },
     "execution_count": 27,
     "metadata": {},
     "output_type": "execute_result"
    }
   ],
   "source": [
    "destinations[~ destinations.str.startswith('192.168.')].value_counts()"
   ]
  },
  {
   "cell_type": "markdown",
   "metadata": {},
   "source": [
    "As we can see, 192.168.1.118 mainly communicates with 104.198.46.246"
   ]
  },
  {
   "cell_type": "markdown",
   "metadata": {},
   "source": [
    "According to a reverse IP lookup, the latter is owned by Google."
   ]
  },
  {
   "cell_type": "markdown",
   "metadata": {},
   "source": [
    "#### Now try to extract the traffic related to 192.168.1.118"
   ]
  },
  {
   "cell_type": "code",
   "execution_count": 28,
   "metadata": {},
   "outputs": [
    {
     "data": {
      "text/html": [
       "<div>\n",
       "<style scoped>\n",
       "    .dataframe tbody tr th:only-of-type {\n",
       "        vertical-align: middle;\n",
       "    }\n",
       "\n",
       "    .dataframe tbody tr th {\n",
       "        vertical-align: top;\n",
       "    }\n",
       "\n",
       "    .dataframe thead th {\n",
       "        text-align: right;\n",
       "    }\n",
       "</style>\n",
       "<table border=\"1\" class=\"dataframe\">\n",
       "  <thead>\n",
       "    <tr style=\"text-align: right;\">\n",
       "      <th></th>\n",
       "      <th>time</th>\n",
       "      <th>eth.src</th>\n",
       "      <th>eth.src_resolved</th>\n",
       "      <th>eth.dst</th>\n",
       "      <th>eth.dst_resolved</th>\n",
       "      <th>ip.src</th>\n",
       "      <th>ip.src_host</th>\n",
       "      <th>ip.dst</th>\n",
       "      <th>ip.dst_host</th>\n",
       "      <th>protocol</th>\n",
       "      <th>len</th>\n",
       "      <th>info</th>\n",
       "    </tr>\n",
       "  </thead>\n",
       "  <tbody>\n",
       "    <tr>\n",
       "      <th>19</th>\n",
       "      <td>2.606836</td>\n",
       "      <td>84:f3:eb:52:42:db</td>\n",
       "      <td>Espressi_52:42:db</td>\n",
       "      <td>ff:ff:ff:ff:ff:ff</td>\n",
       "      <td>Broadcast</td>\n",
       "      <td>192.168.1.219</td>\n",
       "      <td>192.168.1.219</td>\n",
       "      <td>255.255.255.255</td>\n",
       "      <td>255.255.255.255</td>\n",
       "      <td>UDP</td>\n",
       "      <td>217</td>\n",
       "      <td>49154 â 6666 Len=175</td>\n",
       "    </tr>\n",
       "    <tr>\n",
       "      <th>34</th>\n",
       "      <td>5.606384</td>\n",
       "      <td>84:f3:eb:52:42:db</td>\n",
       "      <td>Espressi_52:42:db</td>\n",
       "      <td>ff:ff:ff:ff:ff:ff</td>\n",
       "      <td>Broadcast</td>\n",
       "      <td>192.168.1.219</td>\n",
       "      <td>192.168.1.219</td>\n",
       "      <td>255.255.255.255</td>\n",
       "      <td>255.255.255.255</td>\n",
       "      <td>UDP</td>\n",
       "      <td>217</td>\n",
       "      <td>49154 â 6666 Len=175</td>\n",
       "    </tr>\n",
       "    <tr>\n",
       "      <th>52</th>\n",
       "      <td>8.606307</td>\n",
       "      <td>84:f3:eb:52:42:db</td>\n",
       "      <td>Espressi_52:42:db</td>\n",
       "      <td>ff:ff:ff:ff:ff:ff</td>\n",
       "      <td>Broadcast</td>\n",
       "      <td>192.168.1.219</td>\n",
       "      <td>192.168.1.219</td>\n",
       "      <td>255.255.255.255</td>\n",
       "      <td>255.255.255.255</td>\n",
       "      <td>UDP</td>\n",
       "      <td>217</td>\n",
       "      <td>49154 â 6666 Len=175</td>\n",
       "    </tr>\n",
       "    <tr>\n",
       "      <th>81</th>\n",
       "      <td>11.603487</td>\n",
       "      <td>84:f3:eb:52:42:db</td>\n",
       "      <td>Espressi_52:42:db</td>\n",
       "      <td>ff:ff:ff:ff:ff:ff</td>\n",
       "      <td>Broadcast</td>\n",
       "      <td>192.168.1.219</td>\n",
       "      <td>192.168.1.219</td>\n",
       "      <td>255.255.255.255</td>\n",
       "      <td>255.255.255.255</td>\n",
       "      <td>UDP</td>\n",
       "      <td>217</td>\n",
       "      <td>49154 â 6666 Len=175</td>\n",
       "    </tr>\n",
       "    <tr>\n",
       "      <th>128</th>\n",
       "      <td>14.603491</td>\n",
       "      <td>84:f3:eb:52:42:db</td>\n",
       "      <td>Espressi_52:42:db</td>\n",
       "      <td>ff:ff:ff:ff:ff:ff</td>\n",
       "      <td>Broadcast</td>\n",
       "      <td>192.168.1.219</td>\n",
       "      <td>192.168.1.219</td>\n",
       "      <td>255.255.255.255</td>\n",
       "      <td>255.255.255.255</td>\n",
       "      <td>UDP</td>\n",
       "      <td>217</td>\n",
       "      <td>49154 â 6666 Len=175</td>\n",
       "    </tr>\n",
       "    <tr>\n",
       "      <th>...</th>\n",
       "      <td>...</td>\n",
       "      <td>...</td>\n",
       "      <td>...</td>\n",
       "      <td>...</td>\n",
       "      <td>...</td>\n",
       "      <td>...</td>\n",
       "      <td>...</td>\n",
       "      <td>...</td>\n",
       "      <td>...</td>\n",
       "      <td>...</td>\n",
       "      <td>...</td>\n",
       "      <td>...</td>\n",
       "    </tr>\n",
       "    <tr>\n",
       "      <th>1935795</th>\n",
       "      <td>86373.567616</td>\n",
       "      <td>84:f3:eb:52:42:db</td>\n",
       "      <td>Espressi_52:42:db</td>\n",
       "      <td>ff:ff:ff:ff:ff:ff</td>\n",
       "      <td>Broadcast</td>\n",
       "      <td>192.168.1.219</td>\n",
       "      <td>192.168.1.219</td>\n",
       "      <td>255.255.255.255</td>\n",
       "      <td>255.255.255.255</td>\n",
       "      <td>UDP</td>\n",
       "      <td>217</td>\n",
       "      <td>49154 â 6666 Len=175</td>\n",
       "    </tr>\n",
       "    <tr>\n",
       "      <th>1935831</th>\n",
       "      <td>86376.564698</td>\n",
       "      <td>84:f3:eb:52:42:db</td>\n",
       "      <td>Espressi_52:42:db</td>\n",
       "      <td>ff:ff:ff:ff:ff:ff</td>\n",
       "      <td>Broadcast</td>\n",
       "      <td>192.168.1.219</td>\n",
       "      <td>192.168.1.219</td>\n",
       "      <td>255.255.255.255</td>\n",
       "      <td>255.255.255.255</td>\n",
       "      <td>UDP</td>\n",
       "      <td>217</td>\n",
       "      <td>49154 â 6666 Len=175</td>\n",
       "    </tr>\n",
       "    <tr>\n",
       "      <th>1935896</th>\n",
       "      <td>86379.567444</td>\n",
       "      <td>84:f3:eb:52:42:db</td>\n",
       "      <td>Espressi_52:42:db</td>\n",
       "      <td>ff:ff:ff:ff:ff:ff</td>\n",
       "      <td>Broadcast</td>\n",
       "      <td>192.168.1.219</td>\n",
       "      <td>192.168.1.219</td>\n",
       "      <td>255.255.255.255</td>\n",
       "      <td>255.255.255.255</td>\n",
       "      <td>UDP</td>\n",
       "      <td>217</td>\n",
       "      <td>49154 â 6666 Len=175</td>\n",
       "    </tr>\n",
       "    <tr>\n",
       "      <th>1935959</th>\n",
       "      <td>86382.567573</td>\n",
       "      <td>84:f3:eb:52:42:db</td>\n",
       "      <td>Espressi_52:42:db</td>\n",
       "      <td>ff:ff:ff:ff:ff:ff</td>\n",
       "      <td>Broadcast</td>\n",
       "      <td>192.168.1.219</td>\n",
       "      <td>192.168.1.219</td>\n",
       "      <td>255.255.255.255</td>\n",
       "      <td>255.255.255.255</td>\n",
       "      <td>UDP</td>\n",
       "      <td>217</td>\n",
       "      <td>49154 â 6666 Len=175</td>\n",
       "    </tr>\n",
       "    <tr>\n",
       "      <th>1935982</th>\n",
       "      <td>86385.567623</td>\n",
       "      <td>84:f3:eb:52:42:db</td>\n",
       "      <td>Espressi_52:42:db</td>\n",
       "      <td>ff:ff:ff:ff:ff:ff</td>\n",
       "      <td>Broadcast</td>\n",
       "      <td>192.168.1.219</td>\n",
       "      <td>192.168.1.219</td>\n",
       "      <td>255.255.255.255</td>\n",
       "      <td>255.255.255.255</td>\n",
       "      <td>UDP</td>\n",
       "      <td>217</td>\n",
       "      <td>49154 â 6666 Len=175</td>\n",
       "    </tr>\n",
       "  </tbody>\n",
       "</table>\n",
       "<p>45223 rows × 12 columns</p>\n",
       "</div>"
      ],
      "text/plain": [
       "                 time            eth.src   eth.src_resolved  \\\n",
       "19           2.606836  84:f3:eb:52:42:db  Espressi_52:42:db   \n",
       "34           5.606384  84:f3:eb:52:42:db  Espressi_52:42:db   \n",
       "52           8.606307  84:f3:eb:52:42:db  Espressi_52:42:db   \n",
       "81          11.603487  84:f3:eb:52:42:db  Espressi_52:42:db   \n",
       "128         14.603491  84:f3:eb:52:42:db  Espressi_52:42:db   \n",
       "...               ...                ...                ...   \n",
       "1935795  86373.567616  84:f3:eb:52:42:db  Espressi_52:42:db   \n",
       "1935831  86376.564698  84:f3:eb:52:42:db  Espressi_52:42:db   \n",
       "1935896  86379.567444  84:f3:eb:52:42:db  Espressi_52:42:db   \n",
       "1935959  86382.567573  84:f3:eb:52:42:db  Espressi_52:42:db   \n",
       "1935982  86385.567623  84:f3:eb:52:42:db  Espressi_52:42:db   \n",
       "\n",
       "                   eth.dst eth.dst_resolved         ip.src    ip.src_host  \\\n",
       "19       ff:ff:ff:ff:ff:ff        Broadcast  192.168.1.219  192.168.1.219   \n",
       "34       ff:ff:ff:ff:ff:ff        Broadcast  192.168.1.219  192.168.1.219   \n",
       "52       ff:ff:ff:ff:ff:ff        Broadcast  192.168.1.219  192.168.1.219   \n",
       "81       ff:ff:ff:ff:ff:ff        Broadcast  192.168.1.219  192.168.1.219   \n",
       "128      ff:ff:ff:ff:ff:ff        Broadcast  192.168.1.219  192.168.1.219   \n",
       "...                    ...              ...            ...            ...   \n",
       "1935795  ff:ff:ff:ff:ff:ff        Broadcast  192.168.1.219  192.168.1.219   \n",
       "1935831  ff:ff:ff:ff:ff:ff        Broadcast  192.168.1.219  192.168.1.219   \n",
       "1935896  ff:ff:ff:ff:ff:ff        Broadcast  192.168.1.219  192.168.1.219   \n",
       "1935959  ff:ff:ff:ff:ff:ff        Broadcast  192.168.1.219  192.168.1.219   \n",
       "1935982  ff:ff:ff:ff:ff:ff        Broadcast  192.168.1.219  192.168.1.219   \n",
       "\n",
       "                  ip.dst      ip.dst_host protocol  len  \\\n",
       "19       255.255.255.255  255.255.255.255      UDP  217   \n",
       "34       255.255.255.255  255.255.255.255      UDP  217   \n",
       "52       255.255.255.255  255.255.255.255      UDP  217   \n",
       "81       255.255.255.255  255.255.255.255      UDP  217   \n",
       "128      255.255.255.255  255.255.255.255      UDP  217   \n",
       "...                  ...              ...      ...  ...   \n",
       "1935795  255.255.255.255  255.255.255.255      UDP  217   \n",
       "1935831  255.255.255.255  255.255.255.255      UDP  217   \n",
       "1935896  255.255.255.255  255.255.255.255      UDP  217   \n",
       "1935959  255.255.255.255  255.255.255.255      UDP  217   \n",
       "1935982  255.255.255.255  255.255.255.255      UDP  217   \n",
       "\n",
       "                           info  \n",
       "19       49154 â 6666 Len=175  \n",
       "34       49154 â 6666 Len=175  \n",
       "52       49154 â 6666 Len=175  \n",
       "81       49154 â 6666 Len=175  \n",
       "128      49154 â 6666 Len=175  \n",
       "...                         ...  \n",
       "1935795  49154 â 6666 Len=175  \n",
       "1935831  49154 â 6666 Len=175  \n",
       "1935896  49154 â 6666 Len=175  \n",
       "1935959  49154 â 6666 Len=175  \n",
       "1935982  49154 â 6666 Len=175  \n",
       "\n",
       "[45223 rows x 12 columns]"
      ]
     },
     "execution_count": 28,
     "metadata": {},
     "output_type": "execute_result"
    }
   ],
   "source": [
    "df[(df['ip.src'] == '192.168.1.118') | (df['ip.dst'] == '192.168.1.118') | (df['ip.dst'] == '255.255.255.255')]\n",
    "# Note that we should also include multicasts that comprise 192.168.1.118, and broadcast"
   ]
  },
  {
   "cell_type": "markdown",
   "metadata": {},
   "source": [
    "#### LAN packets"
   ]
  },
  {
   "cell_type": "code",
   "execution_count": 29,
   "metadata": {},
   "outputs": [
    {
     "data": {
      "text/html": [
       "<div>\n",
       "<style scoped>\n",
       "    .dataframe tbody tr th:only-of-type {\n",
       "        vertical-align: middle;\n",
       "    }\n",
       "\n",
       "    .dataframe tbody tr th {\n",
       "        vertical-align: top;\n",
       "    }\n",
       "\n",
       "    .dataframe thead th {\n",
       "        text-align: right;\n",
       "    }\n",
       "</style>\n",
       "<table border=\"1\" class=\"dataframe\">\n",
       "  <thead>\n",
       "    <tr style=\"text-align: right;\">\n",
       "      <th></th>\n",
       "      <th>time</th>\n",
       "      <th>eth.src</th>\n",
       "      <th>eth.src_resolved</th>\n",
       "      <th>eth.dst</th>\n",
       "      <th>eth.dst_resolved</th>\n",
       "      <th>ip.src</th>\n",
       "      <th>ip.src_host</th>\n",
       "      <th>ip.dst</th>\n",
       "      <th>ip.dst_host</th>\n",
       "      <th>protocol</th>\n",
       "      <th>len</th>\n",
       "      <th>info</th>\n",
       "    </tr>\n",
       "  </thead>\n",
       "  <tbody>\n",
       "    <tr>\n",
       "      <th>3</th>\n",
       "      <td>0.181720</td>\n",
       "      <td>ec:1a:59:83:28:11</td>\n",
       "      <td>BelkinIn_83:28:11</td>\n",
       "      <td>14:cc:20:51:33:ea</td>\n",
       "      <td>Tp-LinkT_51:33:ea</td>\n",
       "      <td>192.168.1.165</td>\n",
       "      <td>192.168.1.165</td>\n",
       "      <td>192.168.1.1</td>\n",
       "      <td>192.168.1.1</td>\n",
       "      <td>DNS</td>\n",
       "      <td>68</td>\n",
       "      <td>Standard query 0x074d A xbcs.net</td>\n",
       "    </tr>\n",
       "    <tr>\n",
       "      <th>4</th>\n",
       "      <td>0.183805</td>\n",
       "      <td>14:cc:20:51:33:ea</td>\n",
       "      <td>Tp-LinkT_51:33:ea</td>\n",
       "      <td>ec:1a:59:83:28:11</td>\n",
       "      <td>BelkinIn_83:28:11</td>\n",
       "      <td>192.168.1.1</td>\n",
       "      <td>192.168.1.1</td>\n",
       "      <td>192.168.1.165</td>\n",
       "      <td>192.168.1.165</td>\n",
       "      <td>DNS</td>\n",
       "      <td>84</td>\n",
       "      <td>Standard query response 0x074d A xbcs.net A 18...</td>\n",
       "    </tr>\n",
       "    <tr>\n",
       "      <th>5</th>\n",
       "      <td>0.183836</td>\n",
       "      <td>14:cc:20:51:33:ea</td>\n",
       "      <td>Tp-LinkT_51:33:ea</td>\n",
       "      <td>ec:1a:59:83:28:11</td>\n",
       "      <td>BelkinIn_83:28:11</td>\n",
       "      <td>192.168.1.1</td>\n",
       "      <td>192.168.1.1</td>\n",
       "      <td>192.168.1.165</td>\n",
       "      <td>192.168.1.165</td>\n",
       "      <td>DNS</td>\n",
       "      <td>84</td>\n",
       "      <td>Standard query response 0x074d A xbcs.net A 18...</td>\n",
       "    </tr>\n",
       "    <tr>\n",
       "      <th>36</th>\n",
       "      <td>6.194841</td>\n",
       "      <td>ec:1a:59:83:28:11</td>\n",
       "      <td>BelkinIn_83:28:11</td>\n",
       "      <td>14:cc:20:51:33:ea</td>\n",
       "      <td>Tp-LinkT_51:33:ea</td>\n",
       "      <td>192.168.1.165</td>\n",
       "      <td>192.168.1.165</td>\n",
       "      <td>192.168.1.1</td>\n",
       "      <td>192.168.1.1</td>\n",
       "      <td>DNS</td>\n",
       "      <td>75</td>\n",
       "      <td>Standard query 0x074e A tunnel.xbcs.net</td>\n",
       "    </tr>\n",
       "    <tr>\n",
       "      <th>37</th>\n",
       "      <td>6.195251</td>\n",
       "      <td>14:cc:20:51:33:ea</td>\n",
       "      <td>Tp-LinkT_51:33:ea</td>\n",
       "      <td>ec:1a:59:83:28:11</td>\n",
       "      <td>BelkinIn_83:28:11</td>\n",
       "      <td>192.168.1.1</td>\n",
       "      <td>192.168.1.1</td>\n",
       "      <td>192.168.1.165</td>\n",
       "      <td>192.168.1.165</td>\n",
       "      <td>DNS</td>\n",
       "      <td>91</td>\n",
       "      <td>Standard query response 0x074e A tunnel.xbcs.n...</td>\n",
       "    </tr>\n",
       "    <tr>\n",
       "      <th>...</th>\n",
       "      <td>...</td>\n",
       "      <td>...</td>\n",
       "      <td>...</td>\n",
       "      <td>...</td>\n",
       "      <td>...</td>\n",
       "      <td>...</td>\n",
       "      <td>...</td>\n",
       "      <td>...</td>\n",
       "      <td>...</td>\n",
       "      <td>...</td>\n",
       "      <td>...</td>\n",
       "      <td>...</td>\n",
       "    </tr>\n",
       "    <tr>\n",
       "      <th>1935916</th>\n",
       "      <td>86381.879371</td>\n",
       "      <td>14:cc:20:51:33:ea</td>\n",
       "      <td>Tp-LinkT_51:33:ea</td>\n",
       "      <td>ec:1a:59:83:28:11</td>\n",
       "      <td>BelkinIn_83:28:11</td>\n",
       "      <td>192.168.1.1</td>\n",
       "      <td>192.168.1.1</td>\n",
       "      <td>192.168.1.165</td>\n",
       "      <td>192.168.1.165</td>\n",
       "      <td>DNS</td>\n",
       "      <td>84</td>\n",
       "      <td>Standard query response 0x05b4 A xbcs.net A 18...</td>\n",
       "    </tr>\n",
       "    <tr>\n",
       "      <th>1935924</th>\n",
       "      <td>86382.030747</td>\n",
       "      <td>7c:70:bc:5d:5e:dc</td>\n",
       "      <td>CanaryCo_0d:5e:dc</td>\n",
       "      <td>14:cc:20:51:33:ea</td>\n",
       "      <td>Tp-LinkT_51:33:ea</td>\n",
       "      <td>192.168.1.230</td>\n",
       "      <td>192.168.1.230</td>\n",
       "      <td>192.168.1.1</td>\n",
       "      <td>192.168.1.1</td>\n",
       "      <td>DNS</td>\n",
       "      <td>74</td>\n",
       "      <td>Standard query 0xaeb8 A b.canaryis.com</td>\n",
       "    </tr>\n",
       "    <tr>\n",
       "      <th>1935926</th>\n",
       "      <td>86382.035633</td>\n",
       "      <td>14:cc:20:51:33:ea</td>\n",
       "      <td>Tp-LinkT_51:33:ea</td>\n",
       "      <td>7c:70:bc:5d:5e:dc</td>\n",
       "      <td>CanaryCo_0d:5e:dc</td>\n",
       "      <td>192.168.1.1</td>\n",
       "      <td>192.168.1.1</td>\n",
       "      <td>192.168.1.230</td>\n",
       "      <td>192.168.1.230</td>\n",
       "      <td>DNS</td>\n",
       "      <td>123</td>\n",
       "      <td>Standard query response 0xaeb8 A b.canaryis.co...</td>\n",
       "    </tr>\n",
       "    <tr>\n",
       "      <th>1935994</th>\n",
       "      <td>86387.890035</td>\n",
       "      <td>ec:1a:59:83:28:11</td>\n",
       "      <td>BelkinIn_83:28:11</td>\n",
       "      <td>14:cc:20:51:33:ea</td>\n",
       "      <td>Tp-LinkT_51:33:ea</td>\n",
       "      <td>192.168.1.165</td>\n",
       "      <td>192.168.1.165</td>\n",
       "      <td>192.168.1.1</td>\n",
       "      <td>192.168.1.1</td>\n",
       "      <td>DNS</td>\n",
       "      <td>75</td>\n",
       "      <td>Standard query 0x05b5 A tunnel.xbcs.net</td>\n",
       "    </tr>\n",
       "    <tr>\n",
       "      <th>1935995</th>\n",
       "      <td>86387.890458</td>\n",
       "      <td>14:cc:20:51:33:ea</td>\n",
       "      <td>Tp-LinkT_51:33:ea</td>\n",
       "      <td>ec:1a:59:83:28:11</td>\n",
       "      <td>BelkinIn_83:28:11</td>\n",
       "      <td>192.168.1.1</td>\n",
       "      <td>192.168.1.1</td>\n",
       "      <td>192.168.1.165</td>\n",
       "      <td>192.168.1.165</td>\n",
       "      <td>DNS</td>\n",
       "      <td>91</td>\n",
       "      <td>Standard query response 0x05b5 A tunnel.xbcs.n...</td>\n",
       "    </tr>\n",
       "  </tbody>\n",
       "</table>\n",
       "<p>394815 rows × 12 columns</p>\n",
       "</div>"
      ],
      "text/plain": [
       "                 time            eth.src   eth.src_resolved  \\\n",
       "3            0.181720  ec:1a:59:83:28:11  BelkinIn_83:28:11   \n",
       "4            0.183805  14:cc:20:51:33:ea  Tp-LinkT_51:33:ea   \n",
       "5            0.183836  14:cc:20:51:33:ea  Tp-LinkT_51:33:ea   \n",
       "36           6.194841  ec:1a:59:83:28:11  BelkinIn_83:28:11   \n",
       "37           6.195251  14:cc:20:51:33:ea  Tp-LinkT_51:33:ea   \n",
       "...               ...                ...                ...   \n",
       "1935916  86381.879371  14:cc:20:51:33:ea  Tp-LinkT_51:33:ea   \n",
       "1935924  86382.030747  7c:70:bc:5d:5e:dc  CanaryCo_0d:5e:dc   \n",
       "1935926  86382.035633  14:cc:20:51:33:ea  Tp-LinkT_51:33:ea   \n",
       "1935994  86387.890035  ec:1a:59:83:28:11  BelkinIn_83:28:11   \n",
       "1935995  86387.890458  14:cc:20:51:33:ea  Tp-LinkT_51:33:ea   \n",
       "\n",
       "                   eth.dst   eth.dst_resolved         ip.src    ip.src_host  \\\n",
       "3        14:cc:20:51:33:ea  Tp-LinkT_51:33:ea  192.168.1.165  192.168.1.165   \n",
       "4        ec:1a:59:83:28:11  BelkinIn_83:28:11    192.168.1.1    192.168.1.1   \n",
       "5        ec:1a:59:83:28:11  BelkinIn_83:28:11    192.168.1.1    192.168.1.1   \n",
       "36       14:cc:20:51:33:ea  Tp-LinkT_51:33:ea  192.168.1.165  192.168.1.165   \n",
       "37       ec:1a:59:83:28:11  BelkinIn_83:28:11    192.168.1.1    192.168.1.1   \n",
       "...                    ...                ...            ...            ...   \n",
       "1935916  ec:1a:59:83:28:11  BelkinIn_83:28:11    192.168.1.1    192.168.1.1   \n",
       "1935924  14:cc:20:51:33:ea  Tp-LinkT_51:33:ea  192.168.1.230  192.168.1.230   \n",
       "1935926  7c:70:bc:5d:5e:dc  CanaryCo_0d:5e:dc    192.168.1.1    192.168.1.1   \n",
       "1935994  14:cc:20:51:33:ea  Tp-LinkT_51:33:ea  192.168.1.165  192.168.1.165   \n",
       "1935995  ec:1a:59:83:28:11  BelkinIn_83:28:11    192.168.1.1    192.168.1.1   \n",
       "\n",
       "                ip.dst    ip.dst_host protocol  len  \\\n",
       "3          192.168.1.1    192.168.1.1      DNS   68   \n",
       "4        192.168.1.165  192.168.1.165      DNS   84   \n",
       "5        192.168.1.165  192.168.1.165      DNS   84   \n",
       "36         192.168.1.1    192.168.1.1      DNS   75   \n",
       "37       192.168.1.165  192.168.1.165      DNS   91   \n",
       "...                ...            ...      ...  ...   \n",
       "1935916  192.168.1.165  192.168.1.165      DNS   84   \n",
       "1935924    192.168.1.1    192.168.1.1      DNS   74   \n",
       "1935926  192.168.1.230  192.168.1.230      DNS  123   \n",
       "1935994    192.168.1.1    192.168.1.1      DNS   75   \n",
       "1935995  192.168.1.165  192.168.1.165      DNS   91   \n",
       "\n",
       "                                                      info  \n",
       "3                         Standard query 0x074d A xbcs.net  \n",
       "4        Standard query response 0x074d A xbcs.net A 18...  \n",
       "5        Standard query response 0x074d A xbcs.net A 18...  \n",
       "36                 Standard query 0x074e A tunnel.xbcs.net  \n",
       "37       Standard query response 0x074e A tunnel.xbcs.n...  \n",
       "...                                                    ...  \n",
       "1935916  Standard query response 0x05b4 A xbcs.net A 18...  \n",
       "1935924             Standard query 0xaeb8 A b.canaryis.com  \n",
       "1935926  Standard query response 0xaeb8 A b.canaryis.co...  \n",
       "1935994            Standard query 0x05b5 A tunnel.xbcs.net  \n",
       "1935995  Standard query response 0x05b5 A tunnel.xbcs.n...  \n",
       "\n",
       "[394815 rows x 12 columns]"
      ]
     },
     "execution_count": 29,
     "metadata": {},
     "output_type": "execute_result"
    }
   ],
   "source": [
    "df[df['ip.src'].str.startswith('192.168.') & df['ip.dst'].str.startswith('192.168.')]\n",
    "# Note that we should also include other private prefixes than 192.168."
   ]
  },
  {
   "cell_type": "code",
   "execution_count": 30,
   "metadata": {},
   "outputs": [
    {
     "data": {
      "text/plain": [
       "192.168.1.165                  206881\n",
       "192.168.1.119                  149384\n",
       "192.168.1.245                  121936\n",
       "192.168.1.106                   49425\n",
       "192.168.1.1                     45290\n",
       "192.168.1.192                   36731\n",
       "192.168.1.216                   35174\n",
       "192.168.1.230                   29491\n",
       "192.168.1.169                   23632\n",
       "192.168.1.129                   22550\n",
       "192.168.1.196                   18251\n",
       "192.168.1.239                   13925\n",
       "192.168.1.248                   12221\n",
       "192.168.1.118                    7905\n",
       "192.168.1.205                    6443\n",
       "192.168.1.175                    6096\n",
       "192.168.1.120                    3336\n",
       "192.168.1.163                    2296\n",
       "192.168.1.255                    2018\n",
       "192.168.1.112                    1740\n",
       "192.168.1.108                    1578\n",
       "192.168.1.219                    1469\n",
       "192.168.1.165,129.132.2.21       1392\n",
       "192.168.1.1,192.168.1.216        1291\n",
       "192.168.1.221                    1085\n",
       "192.168.1.236                    1002\n",
       "192.168.1.177                     722\n",
       "192.168.1.227                     595\n",
       "192.168.1.108,149.171.37.10       328\n",
       "192.168.1.168                      87\n",
       "192.168.1.129,192.168.1.245         3\n",
       "192.168.1.1,192.168.1.227           2\n",
       "Name: ip.dst, dtype: int64"
      ]
     },
     "execution_count": 30,
     "metadata": {},
     "output_type": "execute_result"
    }
   ],
   "source": [
    "ip_destinations[ip_destinations.index.str.startswith('192.168.')]\n",
    "# Note the bug with some address fields that contain 2 addresses"
   ]
  },
  {
   "cell_type": "code",
   "execution_count": 31,
   "metadata": {},
   "outputs": [
    {
     "data": {
      "text/plain": [
       "192.168.1.165                  223634\n",
       "192.168.1.1                    180462\n",
       "192.168.1.245                  120088\n",
       "192.168.1.119                  103709\n",
       "192.168.1.106                   49431\n",
       "192.168.1.192                   46127\n",
       "192.168.1.129                   45109\n",
       "192.168.1.216                   39396\n",
       "192.168.1.230                   38012\n",
       "192.168.1.248                   37250\n",
       "192.168.1.219                   31714\n",
       "192.168.1.169                   25552\n",
       "192.168.1.239                   19153\n",
       "192.168.1.196                   18820\n",
       "192.168.1.118                    8011\n",
       "192.168.1.120                    4549\n",
       "192.168.1.108                    4109\n",
       "192.168.1.205                    3571\n",
       "192.168.1.175                    3402\n",
       "192.168.1.163                    3019\n",
       "192.168.1.236                    1621\n",
       "192.168.1.112                    1606\n",
       "192.168.1.221                    1408\n",
       "192.168.1.177                    1400\n",
       "192.168.1.216,192.168.1.1        1291\n",
       "192.168.1.227                    1220\n",
       "192.168.1.168                      94\n",
       "192.168.1.245,192.168.1.129         3\n",
       "192.168.1.227,192.168.1.1           2\n",
       "192.168.1.192,8.8.8.8               1\n",
       "192.168.1.192,216.58.199.67         1\n",
       "Name: ip.src, dtype: int64"
      ]
     },
     "execution_count": 31,
     "metadata": {},
     "output_type": "execute_result"
    }
   ],
   "source": [
    "ip_sources[ip_sources.index.str.startswith('192.168.')]"
   ]
  },
  {
   "cell_type": "code",
   "execution_count": null,
   "metadata": {},
   "outputs": [],
   "source": []
  }
 ],
 "metadata": {
  "kernelspec": {
   "display_name": "Python 3",
   "language": "python",
   "name": "python3"
  },
  "language_info": {
   "codemirror_mode": {
    "name": "ipython",
    "version": 3
   },
   "file_extension": ".py",
   "mimetype": "text/x-python",
   "name": "python",
   "nbconvert_exporter": "python",
   "pygments_lexer": "ipython3",
   "version": "3.8.5"
  }
 },
 "nbformat": 4,
 "nbformat_minor": 4
}
