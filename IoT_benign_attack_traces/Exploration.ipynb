{
 "cells": [
  {
   "cell_type": "code",
   "execution_count": 1,
   "metadata": {},
   "outputs": [],
   "source": [
    "import pandas as pd"
   ]
  },
  {
   "cell_type": "code",
   "execution_count": 2,
   "metadata": {},
   "outputs": [],
   "source": [
    "path = './data/18-10-29_names.csv'"
   ]
  },
  {
   "cell_type": "code",
   "execution_count": 3,
   "metadata": {},
   "outputs": [],
   "source": [
    "df = pd.read_csv(path, sep='\\\\', encoding = \"ISO-8859-1\")"
   ]
  },
  {
   "cell_type": "code",
   "execution_count": 4,
   "metadata": {},
   "outputs": [],
   "source": [
    "df = df.rename(columns={\"frame.time_relative\": \"time\",\n",
    "                        \"_ws.col.Protocol\": \"protocol\",\n",
    "                        \"frame.len\": \"len\",\n",
    "                        \"_ws.col.Info\": \"info\"})"
   ]
  },
  {
   "cell_type": "code",
   "execution_count": 5,
   "metadata": {},
   "outputs": [
    {
     "data": {
      "text/html": [
       "<div>\n",
       "<style scoped>\n",
       "    .dataframe tbody tr th:only-of-type {\n",
       "        vertical-align: middle;\n",
       "    }\n",
       "\n",
       "    .dataframe tbody tr th {\n",
       "        vertical-align: top;\n",
       "    }\n",
       "\n",
       "    .dataframe thead th {\n",
       "        text-align: right;\n",
       "    }\n",
       "</style>\n",
       "<table border=\"1\" class=\"dataframe\">\n",
       "  <thead>\n",
       "    <tr style=\"text-align: right;\">\n",
       "      <th></th>\n",
       "      <th>time</th>\n",
       "      <th>eth.src</th>\n",
       "      <th>eth.src_resolved</th>\n",
       "      <th>eth.dst</th>\n",
       "      <th>eth.dst_resolved</th>\n",
       "      <th>ip.src</th>\n",
       "      <th>ip.src_host</th>\n",
       "      <th>ip.dst</th>\n",
       "      <th>ip.dst_host</th>\n",
       "      <th>protocol</th>\n",
       "      <th>len</th>\n",
       "      <th>info</th>\n",
       "    </tr>\n",
       "  </thead>\n",
       "  <tbody>\n",
       "    <tr>\n",
       "      <th>0</th>\n",
       "      <td>0.000000</td>\n",
       "      <td>ec:1a:59:83:28:11</td>\n",
       "      <td>BelkinIn_83:28:11</td>\n",
       "      <td>14:cc:20:51:33:ea</td>\n",
       "      <td>Tp-LinkT_51:33:ea</td>\n",
       "      <td>192.168.1.165</td>\n",
       "      <td>192.168.1.165</td>\n",
       "      <td>192.168.1.1</td>\n",
       "      <td>192.168.1.1</td>\n",
       "      <td>DNS</td>\n",
       "      <td>75</td>\n",
       "      <td>Standard query 0x00e2 A tunnel.xbcs.net</td>\n",
       "    </tr>\n",
       "    <tr>\n",
       "      <th>1</th>\n",
       "      <td>0.002010</td>\n",
       "      <td>14:cc:20:51:33:ea</td>\n",
       "      <td>Tp-LinkT_51:33:ea</td>\n",
       "      <td>ec:1a:59:83:28:11</td>\n",
       "      <td>BelkinIn_83:28:11</td>\n",
       "      <td>192.168.1.1</td>\n",
       "      <td>192.168.1.1</td>\n",
       "      <td>192.168.1.165</td>\n",
       "      <td>192.168.1.165</td>\n",
       "      <td>DNS</td>\n",
       "      <td>91</td>\n",
       "      <td>Standard query response 0x00e2 A tunnel.xbcs.n...</td>\n",
       "    </tr>\n",
       "    <tr>\n",
       "      <th>2</th>\n",
       "      <td>0.002049</td>\n",
       "      <td>14:cc:20:51:33:ea</td>\n",
       "      <td>Tp-LinkT_51:33:ea</td>\n",
       "      <td>ec:1a:59:83:28:11</td>\n",
       "      <td>BelkinIn_83:28:11</td>\n",
       "      <td>192.168.1.1</td>\n",
       "      <td>192.168.1.1</td>\n",
       "      <td>192.168.1.165</td>\n",
       "      <td>192.168.1.165</td>\n",
       "      <td>DNS</td>\n",
       "      <td>91</td>\n",
       "      <td>Standard query response 0x00e2 A tunnel.xbcs.n...</td>\n",
       "    </tr>\n",
       "    <tr>\n",
       "      <th>3</th>\n",
       "      <td>0.009122</td>\n",
       "      <td>ec:1a:59:83:28:11</td>\n",
       "      <td>BelkinIn_83:28:11</td>\n",
       "      <td>14:cc:20:51:33:ea</td>\n",
       "      <td>Tp-LinkT_51:33:ea</td>\n",
       "      <td>192.168.1.165</td>\n",
       "      <td>192.168.1.165</td>\n",
       "      <td>174.129.217.97</td>\n",
       "      <td>174.129.217.97</td>\n",
       "      <td>TCP</td>\n",
       "      <td>74</td>\n",
       "      <td>4833 â 3478 [SYN] Seq=0 Win=5840 Len=0 MSS=1...</td>\n",
       "    </tr>\n",
       "    <tr>\n",
       "      <th>4</th>\n",
       "      <td>0.172947</td>\n",
       "      <td>30:8c:fb:2f:e4:b2</td>\n",
       "      <td>Dropcam_2f:e4:b2</td>\n",
       "      <td>14:cc:20:51:33:ea</td>\n",
       "      <td>Tp-LinkT_51:33:ea</td>\n",
       "      <td>192.168.1.106</td>\n",
       "      <td>192.168.1.106</td>\n",
       "      <td>35.188.0.57</td>\n",
       "      <td>35.188.0.57</td>\n",
       "      <td>TLSv1</td>\n",
       "      <td>156</td>\n",
       "      <td>Application Data, Application Data</td>\n",
       "    </tr>\n",
       "  </tbody>\n",
       "</table>\n",
       "</div>"
      ],
      "text/plain": [
       "       time            eth.src   eth.src_resolved            eth.dst  \\\n",
       "0  0.000000  ec:1a:59:83:28:11  BelkinIn_83:28:11  14:cc:20:51:33:ea   \n",
       "1  0.002010  14:cc:20:51:33:ea  Tp-LinkT_51:33:ea  ec:1a:59:83:28:11   \n",
       "2  0.002049  14:cc:20:51:33:ea  Tp-LinkT_51:33:ea  ec:1a:59:83:28:11   \n",
       "3  0.009122  ec:1a:59:83:28:11  BelkinIn_83:28:11  14:cc:20:51:33:ea   \n",
       "4  0.172947  30:8c:fb:2f:e4:b2   Dropcam_2f:e4:b2  14:cc:20:51:33:ea   \n",
       "\n",
       "    eth.dst_resolved         ip.src    ip.src_host          ip.dst  \\\n",
       "0  Tp-LinkT_51:33:ea  192.168.1.165  192.168.1.165     192.168.1.1   \n",
       "1  BelkinIn_83:28:11    192.168.1.1    192.168.1.1   192.168.1.165   \n",
       "2  BelkinIn_83:28:11    192.168.1.1    192.168.1.1   192.168.1.165   \n",
       "3  Tp-LinkT_51:33:ea  192.168.1.165  192.168.1.165  174.129.217.97   \n",
       "4  Tp-LinkT_51:33:ea  192.168.1.106  192.168.1.106     35.188.0.57   \n",
       "\n",
       "      ip.dst_host protocol  len  \\\n",
       "0     192.168.1.1      DNS   75   \n",
       "1   192.168.1.165      DNS   91   \n",
       "2   192.168.1.165      DNS   91   \n",
       "3  174.129.217.97      TCP   74   \n",
       "4     35.188.0.57    TLSv1  156   \n",
       "\n",
       "                                                info  \n",
       "0            Standard query 0x00e2 A tunnel.xbcs.net  \n",
       "1  Standard query response 0x00e2 A tunnel.xbcs.n...  \n",
       "2  Standard query response 0x00e2 A tunnel.xbcs.n...  \n",
       "3  4833 â 3478 [SYN] Seq=0 Win=5840 Len=0 MSS=1...  \n",
       "4                 Application Data, Application Data  "
      ]
     },
     "execution_count": 5,
     "metadata": {},
     "output_type": "execute_result"
    }
   ],
   "source": [
    "df.head()"
   ]
  },
  {
   "cell_type": "code",
   "execution_count": 6,
   "metadata": {},
   "outputs": [
    {
     "data": {
      "text/plain": [
       "<AxesSubplot:>"
      ]
     },
     "execution_count": 6,
     "metadata": {},
     "output_type": "execute_result"
    },
    {
     "data": {
      "image/png": "[encoded data removed]",
      "text/plain": [
       "<Figure size 432x288 with 1 Axes>"
      ]
     },
     "metadata": {
      "needs_background": "light"
     },
     "output_type": "display_data"
    }
   ],
   "source": [
    "df['protocol'].value_counts()[:20].plot(kind='bar')"
   ]
  },
  {
   "cell_type": "code",
   "execution_count": 7,
   "metadata": {},
   "outputs": [
    {
     "data": {
      "text/plain": [
       "360"
      ]
     },
     "execution_count": 7,
     "metadata": {},
     "output_type": "execute_result"
    }
   ],
   "source": [
    "ip_sources = df['ip.src'].value_counts()\n",
    "len(ip_sources)"
   ]
  },
  {
   "cell_type": "code",
   "execution_count": 8,
   "metadata": {},
   "outputs": [
    {
     "data": {
      "text/plain": [
       "<AxesSubplot:>"
      ]
     },
     "execution_count": 8,
     "metadata": {},
     "output_type": "execute_result"
    },
    {
     "data": {
      "image/png": "[encoded data removed]",
      "text/plain": [
       "<Figure size 432x288 with 1 Axes>"
      ]
     },
     "metadata": {
      "needs_background": "light"
     },
     "output_type": "display_data"
    }
   ],
   "source": [
    "ip_sources[:30].plot(kind='bar')"
   ]
  },
  {
   "cell_type": "code",
   "execution_count": 9,
   "metadata": {},
   "outputs": [
    {
     "data": {
      "text/plain": [
       "377"
      ]
     },
     "execution_count": 9,
     "metadata": {},
     "output_type": "execute_result"
    }
   ],
   "source": [
    "ip_destinations = df['ip.dst'].value_counts()\n",
    "len(ip_destinations)"
   ]
  },
  {
   "cell_type": "code",
   "execution_count": 10,
   "metadata": {},
   "outputs": [
    {
     "data": {
      "text/plain": [
       "<AxesSubplot:>"
      ]
     },
     "execution_count": 10,
     "metadata": {},
     "output_type": "execute_result"
    },
    {
     "data": {
      "image/png": "[encoded data removed]",
      "text/plain": [
       "<Figure size 432x288 with 1 Axes>"
      ]
     },
     "metadata": {
      "needs_background": "light"
     },
     "output_type": "display_data"
    }
   ],
   "source": [
    "ip_destinations[:50].plot(kind='bar')"
   ]
  },
  {
   "cell_type": "code",
   "execution_count": 11,
   "metadata": {},
   "outputs": [
    {
     "data": {
      "text/plain": [
       "28"
      ]
     },
     "execution_count": 11,
     "metadata": {},
     "output_type": "execute_result"
    }
   ],
   "source": [
    "len(df['eth.src'].value_counts())"
   ]
  },
  {
   "cell_type": "code",
   "execution_count": 12,
   "metadata": {},
   "outputs": [
    {
     "data": {
      "text/plain": [
       "<AxesSubplot:>"
      ]
     },
     "execution_count": 12,
     "metadata": {},
     "output_type": "execute_result"
    },
    {
     "data": {
      "image/png": "[encoded data removed]",
      "text/plain": [
       "<Figure size 432x288 with 1 Axes>"
      ]
     },
     "metadata": {
      "needs_background": "light"
     },
     "output_type": "display_data"
    }
   ],
   "source": [
    "df['eth.src'].value_counts()[:50].plot(kind='bar')"
   ]
  },
  {
   "cell_type": "code",
   "execution_count": 13,
   "metadata": {},
   "outputs": [
    {
     "data": {
      "text/plain": [
       "<AxesSubplot:>"
      ]
     },
     "execution_count": 13,
     "metadata": {},
     "output_type": "execute_result"
    },
    {
     "data": {
      "image/png": "[encoded data removed]",
      "text/plain": [
       "<Figure size 432x288 with 1 Axes>"
      ]
     },
     "metadata": {
      "needs_background": "light"
     },
     "output_type": "display_data"
    }
   ],
   "source": [
    "df['eth.dst'].value_counts()[:50].plot(kind='bar')"
   ]
  },
  {
   "cell_type": "code",
   "execution_count": 14,
   "metadata": {},
   "outputs": [
    {
     "data": {
      "text/plain": [
       "<AxesSubplot:>"
      ]
     },
     "execution_count": 14,
     "metadata": {},
     "output_type": "execute_result"
    },
    {
     "data": {
      "image/png": "[encoded data removed]",
      "text/plain": [
       "<Figure size 432x288 with 1 Axes>"
      ]
     },
     "metadata": {
      "needs_background": "light"
     },
     "output_type": "display_data"
    }
   ],
   "source": [
    "df['eth.src_resolved'].value_counts()[:50].plot(kind='bar')"
   ]
  },
  {
   "cell_type": "code",
   "execution_count": 15,
   "metadata": {},
   "outputs": [
    {
     "data": {
      "text/plain": [
       "<AxesSubplot:>"
      ]
     },
     "execution_count": 15,
     "metadata": {},
     "output_type": "execute_result"
    },
    {
     "data": {
      "image/png": "[encoded data removed]",
      "text/plain": [
       "<Figure size 432x288 with 1 Axes>"
      ]
     },
     "metadata": {
      "needs_background": "light"
     },
     "output_type": "display_data"
    }
   ],
   "source": [
    "df['eth.dst_resolved'].value_counts()[:30].plot(kind='bar')"
   ]
  },
  {
   "cell_type": "code",
   "execution_count": 16,
   "metadata": {},
   "outputs": [
    {
     "data": {
      "text/plain": [
       "192.168.1.165      207760\n",
       "239.255.255.250    164509\n",
       "192.168.1.119      147310\n",
       "192.168.1.245      119613\n",
       "174.129.217.97      70906\n",
       "                    ...  \n",
       "194.80.204.184          1\n",
       "80.87.128.222           1\n",
       "139.162.219.252         1\n",
       "195.250.98.8            1\n",
       "193.2.78.228            1\n",
       "Name: ip.dst, Length: 377, dtype: int64"
      ]
     },
     "execution_count": 16,
     "metadata": {},
     "output_type": "execute_result"
    }
   ],
   "source": [
    "df['ip.dst'].value_counts()"
   ]
  },
  {
   "cell_type": "markdown",
   "metadata": {},
   "source": [
    "Next: check the packet that raised a warning when running tshark (1479336)\n",
    "\n",
    "mac name resolution"
   ]
  },
  {
   "cell_type": "markdown",
   "metadata": {},
   "source": [
    "### Packets that raise a warning when running tshark"
   ]
  },
  {
   "cell_type": "code",
   "execution_count": 17,
   "metadata": {},
   "outputs": [
    {
     "data": {
      "text/plain": [
       "time                                                          66329.1\n",
       "eth.src                                             00:17:88:2b:9a:25\n",
       "eth.src_resolved                                    PhilipsL_2b:9a:25\n",
       "eth.dst                                             14:cc:20:51:33:ea\n",
       "eth.dst_resolved                                    Tp-LinkT_51:33:ea\n",
       "ip.src                                                  192.168.1.129\n",
       "ip.src_host                                             192.168.1.129\n",
       "ip.dst                                                  130.211.67.12\n",
       "ip.dst_host                                             130.211.67.12\n",
       "protocol                                                         HTTP\n",
       "len                                                               767\n",
       "info                POST /bridges/fullconfig?sso=332e252d3b35d28a7...\n",
       "Name: 1479335, dtype: object"
      ]
     },
     "execution_count": 17,
     "metadata": {},
     "output_type": "execute_result"
    }
   ],
   "source": [
    "df.iloc[1479335]"
   ]
  },
  {
   "cell_type": "code",
   "execution_count": 18,
   "metadata": {},
   "outputs": [
    {
     "data": {
      "text/plain": [
       "'POST /bridges/fullconfig?sso=332e252d3b35d28a7e76a9faee142223e84f6578bd541b2b77a392a0ded4ef161b717eaf66da2b1256b93213e31364fedc23c944472c081832f02878b81abcd8acf21eb652373b6d2049571000c64cad080547f708e8146d3f543855fd6b1fe01bd45b0612666792ce63247e2f232b62bb15213d2999dc985e39ce6166ad61e59c31&i=f9cb1ac3c5e1e68956445eccab284cf2&auth=8f553d46f86ebc378cd53d0965c27a096a3c3c8c HTTP/1.1 [Dissector bug, protocol HTTP: epan/packet.c:761: failed assertion saved_layers_len < 500\"][Dissector bug, protocol HTTP: epan/packet.c:761: failed assertion \"saved_layers_len < 500\"]\"'"
      ]
     },
     "execution_count": 18,
     "metadata": {},
     "output_type": "execute_result"
    }
   ],
   "source": [
    "df.iloc[1479335]['info']"
   ]
  },
  {
   "cell_type": "markdown",
   "metadata": {},
   "source": [
    "Seems like the info column is too long (>500)"
   ]
  },
  {
   "cell_type": "markdown",
   "metadata": {},
   "source": [
    "### Now we try to split the dataset based on IP addresses of the IoT devices"
   ]
  },
  {
   "cell_type": "markdown",
   "metadata": {},
   "source": [
    "#### Top 30 source private IP addresses"
   ]
  },
  {
   "cell_type": "code",
   "execution_count": 19,
   "metadata": {},
   "outputs": [
    {
     "data": {
      "text/plain": [
       "<AxesSubplot:>"
      ]
     },
     "execution_count": 19,
     "metadata": {},
     "output_type": "execute_result"
    },
    {
     "data": {
      "image/png": "[encoded data removed]",
      "text/plain": [
       "<Figure size 432x288 with 1 Axes>"
      ]
     },
     "metadata": {
      "needs_background": "light"
     },
     "output_type": "display_data"
    }
   ],
   "source": [
    "ip_sources[ip_sources.index.str.startswith('192.168.')][:30].plot(kind='bar')"
   ]
  },
  {
   "cell_type": "markdown",
   "metadata": {},
   "source": [
    "#### Top 30 source public IP addresses"
   ]
  },
  {
   "cell_type": "code",
   "execution_count": 20,
   "metadata": {},
   "outputs": [
    {
     "data": {
      "text/plain": [
       "<AxesSubplot:>"
      ]
     },
     "execution_count": 20,
     "metadata": {},
     "output_type": "execute_result"
    },
    {
     "data": {
      "image/png": "[encoded data removed]",
      "text/plain": [
       "<Figure size 432x288 with 1 Axes>"
      ]
     },
     "metadata": {
      "needs_background": "light"
     },
     "output_type": "display_data"
    }
   ],
   "source": [
    "ip_sources[~ ip_sources.index.str.startswith('192.168.')][:30].plot(kind='bar')"
   ]
  },
  {
   "cell_type": "markdown",
   "metadata": {},
   "source": [
    "#### 192.168.1.118 is a random IoT device, try to understand with who it communicates in the LAN"
   ]
  },
  {
   "cell_type": "code",
   "execution_count": 21,
   "metadata": {},
   "outputs": [
    {
     "data": {
      "text/plain": [
       "LifiLabs_01:83:08    8042\n",
       "Name: eth.src_resolved, dtype: int64"
      ]
     },
     "execution_count": 21,
     "metadata": {},
     "output_type": "execute_result"
    }
   ],
   "source": [
    "df[df['ip.src'] == '192.168.1.118']['eth.src_resolved'].value_counts()"
   ]
  },
  {
   "cell_type": "markdown",
   "metadata": {},
   "source": [
    "192.168.1.118 is probably a LIFX smart lamp (its MAC address is from Lifilabs)."
   ]
  },
  {
   "cell_type": "code",
   "execution_count": 22,
   "metadata": {},
   "outputs": [
    {
     "data": {
      "text/plain": [
       "Tp-LinkT_51:33:ea    7950\n",
       "Name: eth.src_resolved, dtype: int64"
      ]
     },
     "execution_count": 22,
     "metadata": {},
     "output_type": "execute_result"
    }
   ],
   "source": [
    "df[df['ip.dst'] == '192.168.1.118']['eth.src_resolved'].value_counts()"
   ]
  },
  {
   "cell_type": "markdown",
   "metadata": {},
   "source": [
    "It looks like the device with MAC 51:33:ea is the router, of the brand TP-Link"
   ]
  },
  {
   "cell_type": "code",
   "execution_count": 23,
   "metadata": {},
   "outputs": [
    {
     "data": {
      "text/plain": [
       "464        104.198.46.246\n",
       "466        104.198.46.246\n",
       "831        104.198.46.246\n",
       "932               8.8.8.8\n",
       "933           192.168.1.1\n",
       "                ...      \n",
       "1919963    104.198.46.246\n",
       "1920915    104.198.46.246\n",
       "1920921    104.198.46.246\n",
       "1920927     192.168.1.255\n",
       "1920928    104.198.46.246\n",
       "Name: ip.dst, Length: 8042, dtype: object"
      ]
     },
     "execution_count": 23,
     "metadata": {},
     "output_type": "execute_result"
    }
   ],
   "source": [
    "destinations = df[df['ip.src'] == '192.168.1.118']['ip.dst']\n",
    "destinations"
   ]
  },
  {
   "cell_type": "code",
   "execution_count": 24,
   "metadata": {},
   "outputs": [
    {
     "data": {
      "text/plain": [
       "192.168.1.255    1775\n",
       "192.168.1.1       302\n",
       "Name: ip.dst, dtype: int64"
      ]
     },
     "execution_count": 24,
     "metadata": {},
     "output_type": "execute_result"
    }
   ],
   "source": [
    "destinations[destinations.str.startswith('192.168.')].value_counts()"
   ]
  },
  {
   "cell_type": "markdown",
   "metadata": {},
   "source": [
    "There are only 2 LAN IP destinations for 192.168.1.118: 192.168.1.1 and 192.168.1.255 (I think these are the router private IP address and the LAN broadcast IP address)"
   ]
  },
  {
   "cell_type": "code",
   "execution_count": 25,
   "metadata": {},
   "outputs": [
    {
     "data": {
      "text/plain": [
       "DNS     298\n",
       "DHCP      4\n",
       "Name: protocol, dtype: int64"
      ]
     },
     "execution_count": 25,
     "metadata": {},
     "output_type": "execute_result"
    }
   ],
   "source": [
    "df[(df['ip.src'] == '192.168.1.118') & (df['ip.dst'] == '192.168.1.1')]['protocol'].value_counts()"
   ]
  },
  {
   "cell_type": "markdown",
   "metadata": {},
   "source": [
    "As we can see this communication was only used for DNS and DHCP"
   ]
  },
  {
   "cell_type": "code",
   "execution_count": 26,
   "metadata": {},
   "outputs": [
    {
     "data": {
      "text/plain": [
       "UDP             1186\n",
       "ADwin Config     589\n",
       "Name: protocol, dtype: int64"
      ]
     },
     "execution_count": 26,
     "metadata": {},
     "output_type": "execute_result"
    }
   ],
   "source": [
    "df[(df['ip.src'] == '192.168.1.118') & (df['ip.dst'] == '192.168.1.255')]['protocol'].value_counts()"
   ]
  },
  {
   "cell_type": "markdown",
   "metadata": {},
   "source": [
    "???"
   ]
  },
  {
   "cell_type": "code",
   "execution_count": 27,
   "metadata": {},
   "outputs": [
    {
     "data": {
      "text/plain": [
       "104.198.46.246     5372\n",
       "8.8.8.8             298\n",
       "13.55.50.68          18\n",
       "103.214.220.220      16\n",
       "103.38.120.36        15\n",
       "                   ... \n",
       "45.32.110.120         1\n",
       "203.7.149.150         1\n",
       "212.18.3.18           1\n",
       "128.199.123.83        1\n",
       "38.229.71.1           1\n",
       "Name: ip.dst, Length: 69, dtype: int64"
      ]
     },
     "execution_count": 27,
     "metadata": {},
     "output_type": "execute_result"
    }
   ],
   "source": [
    "destinations[~ destinations.str.startswith('192.168.')].value_counts()"
   ]
  },
  {
   "cell_type": "markdown",
   "metadata": {},
   "source": [
    "As we can see, 192.168.1.118 mainly communicates with 104.198.46.246"
   ]
  },
  {
   "cell_type": "markdown",
   "metadata": {},
   "source": [
    "According to a reverse IP lookup, the latter is owned by Google."
   ]
  },
  {
   "cell_type": "markdown",
   "metadata": {},
   "source": [
    "#### Now try to extract the traffic related to 192.168.1.118"
   ]
  },
  {
   "cell_type": "code",
   "execution_count": 28,
   "metadata": {},
   "outputs": [
    {
     "data": {
      "text/html": [
       "<div>\n",
       "<style scoped>\n",
       "    .dataframe tbody tr th:only-of-type {\n",
       "        vertical-align: middle;\n",
       "    }\n",
       "\n",
       "    .dataframe tbody tr th {\n",
       "        vertical-align: top;\n",
       "    }\n",
       "\n",
       "    .dataframe thead th {\n",
       "        text-align: right;\n",
       "    }\n",
       "</style>\n",
       "<table border=\"1\" class=\"dataframe\">\n",
       "  <thead>\n",
       "    <tr style=\"text-align: right;\">\n",
       "      <th></th>\n",
       "      <th>time</th>\n",
       "      <th>eth.src</th>\n",
       "      <th>eth.src_resolved</th>\n",
       "      <th>eth.dst</th>\n",
       "      <th>eth.dst_resolved</th>\n",
       "      <th>ip.src</th>\n",
       "      <th>ip.src_host</th>\n",
       "      <th>ip.dst</th>\n",
       "      <th>ip.dst_host</th>\n",
       "      <th>protocol</th>\n",
       "      <th>len</th>\n",
       "      <th>info</th>\n",
       "    </tr>\n",
       "  </thead>\n",
       "  <tbody>\n",
       "    <tr>\n",
       "      <th>226</th>\n",
       "      <td>2.240297</td>\n",
       "      <td>84:f3:eb:52:42:db</td>\n",
       "      <td>Espressi_52:42:db</td>\n",
       "      <td>ff:ff:ff:ff:ff:ff</td>\n",
       "      <td>Broadcast</td>\n",
       "      <td>192.168.1.219</td>\n",
       "      <td>192.168.1.219</td>\n",
       "      <td>255.255.255.255</td>\n",
       "      <td>255.255.255.255</td>\n",
       "      <td>UDP</td>\n",
       "      <td>217</td>\n",
       "      <td>49154 â 6666 Len=175</td>\n",
       "    </tr>\n",
       "    <tr>\n",
       "      <th>267</th>\n",
       "      <td>5.234390</td>\n",
       "      <td>84:f3:eb:52:42:db</td>\n",
       "      <td>Espressi_52:42:db</td>\n",
       "      <td>ff:ff:ff:ff:ff:ff</td>\n",
       "      <td>Broadcast</td>\n",
       "      <td>192.168.1.219</td>\n",
       "      <td>192.168.1.219</td>\n",
       "      <td>255.255.255.255</td>\n",
       "      <td>255.255.255.255</td>\n",
       "      <td>UDP</td>\n",
       "      <td>217</td>\n",
       "      <td>49154 â 6666 Len=175</td>\n",
       "    </tr>\n",
       "    <tr>\n",
       "      <th>288</th>\n",
       "      <td>8.234473</td>\n",
       "      <td>84:f3:eb:52:42:db</td>\n",
       "      <td>Espressi_52:42:db</td>\n",
       "      <td>ff:ff:ff:ff:ff:ff</td>\n",
       "      <td>Broadcast</td>\n",
       "      <td>192.168.1.219</td>\n",
       "      <td>192.168.1.219</td>\n",
       "      <td>255.255.255.255</td>\n",
       "      <td>255.255.255.255</td>\n",
       "      <td>UDP</td>\n",
       "      <td>217</td>\n",
       "      <td>49154 â 6666 Len=175</td>\n",
       "    </tr>\n",
       "    <tr>\n",
       "      <th>418</th>\n",
       "      <td>11.234358</td>\n",
       "      <td>84:f3:eb:52:42:db</td>\n",
       "      <td>Espressi_52:42:db</td>\n",
       "      <td>ff:ff:ff:ff:ff:ff</td>\n",
       "      <td>Broadcast</td>\n",
       "      <td>192.168.1.219</td>\n",
       "      <td>192.168.1.219</td>\n",
       "      <td>255.255.255.255</td>\n",
       "      <td>255.255.255.255</td>\n",
       "      <td>UDP</td>\n",
       "      <td>217</td>\n",
       "      <td>49154 â 6666 Len=175</td>\n",
       "    </tr>\n",
       "    <tr>\n",
       "      <th>441</th>\n",
       "      <td>14.234463</td>\n",
       "      <td>84:f3:eb:52:42:db</td>\n",
       "      <td>Espressi_52:42:db</td>\n",
       "      <td>ff:ff:ff:ff:ff:ff</td>\n",
       "      <td>Broadcast</td>\n",
       "      <td>192.168.1.219</td>\n",
       "      <td>192.168.1.219</td>\n",
       "      <td>255.255.255.255</td>\n",
       "      <td>255.255.255.255</td>\n",
       "      <td>UDP</td>\n",
       "      <td>217</td>\n",
       "      <td>49154 â 6666 Len=175</td>\n",
       "    </tr>\n",
       "    <tr>\n",
       "      <th>...</th>\n",
       "      <td>...</td>\n",
       "      <td>...</td>\n",
       "      <td>...</td>\n",
       "      <td>...</td>\n",
       "      <td>...</td>\n",
       "      <td>...</td>\n",
       "      <td>...</td>\n",
       "      <td>...</td>\n",
       "      <td>...</td>\n",
       "      <td>...</td>\n",
       "      <td>...</td>\n",
       "      <td>...</td>\n",
       "    </tr>\n",
       "    <tr>\n",
       "      <th>1920949</th>\n",
       "      <td>86385.197133</td>\n",
       "      <td>84:f3:eb:52:42:db</td>\n",
       "      <td>Espressi_52:42:db</td>\n",
       "      <td>ff:ff:ff:ff:ff:ff</td>\n",
       "      <td>Broadcast</td>\n",
       "      <td>192.168.1.219</td>\n",
       "      <td>192.168.1.219</td>\n",
       "      <td>255.255.255.255</td>\n",
       "      <td>255.255.255.255</td>\n",
       "      <td>UDP</td>\n",
       "      <td>217</td>\n",
       "      <td>49154 â 6666 Len=175</td>\n",
       "    </tr>\n",
       "    <tr>\n",
       "      <th>1920980</th>\n",
       "      <td>86388.195877</td>\n",
       "      <td>84:f3:eb:52:42:db</td>\n",
       "      <td>Espressi_52:42:db</td>\n",
       "      <td>ff:ff:ff:ff:ff:ff</td>\n",
       "      <td>Broadcast</td>\n",
       "      <td>192.168.1.219</td>\n",
       "      <td>192.168.1.219</td>\n",
       "      <td>255.255.255.255</td>\n",
       "      <td>255.255.255.255</td>\n",
       "      <td>UDP</td>\n",
       "      <td>217</td>\n",
       "      <td>49154 â 6666 Len=175</td>\n",
       "    </tr>\n",
       "    <tr>\n",
       "      <th>1921014</th>\n",
       "      <td>86391.197181</td>\n",
       "      <td>84:f3:eb:52:42:db</td>\n",
       "      <td>Espressi_52:42:db</td>\n",
       "      <td>ff:ff:ff:ff:ff:ff</td>\n",
       "      <td>Broadcast</td>\n",
       "      <td>192.168.1.219</td>\n",
       "      <td>192.168.1.219</td>\n",
       "      <td>255.255.255.255</td>\n",
       "      <td>255.255.255.255</td>\n",
       "      <td>UDP</td>\n",
       "      <td>217</td>\n",
       "      <td>49154 â 6666 Len=175</td>\n",
       "    </tr>\n",
       "    <tr>\n",
       "      <th>1921025</th>\n",
       "      <td>86394.197228</td>\n",
       "      <td>84:f3:eb:52:42:db</td>\n",
       "      <td>Espressi_52:42:db</td>\n",
       "      <td>ff:ff:ff:ff:ff:ff</td>\n",
       "      <td>Broadcast</td>\n",
       "      <td>192.168.1.219</td>\n",
       "      <td>192.168.1.219</td>\n",
       "      <td>255.255.255.255</td>\n",
       "      <td>255.255.255.255</td>\n",
       "      <td>UDP</td>\n",
       "      <td>217</td>\n",
       "      <td>49154 â 6666 Len=175</td>\n",
       "    </tr>\n",
       "    <tr>\n",
       "      <th>1921085</th>\n",
       "      <td>86397.197279</td>\n",
       "      <td>84:f3:eb:52:42:db</td>\n",
       "      <td>Espressi_52:42:db</td>\n",
       "      <td>ff:ff:ff:ff:ff:ff</td>\n",
       "      <td>Broadcast</td>\n",
       "      <td>192.168.1.219</td>\n",
       "      <td>192.168.1.219</td>\n",
       "      <td>255.255.255.255</td>\n",
       "      <td>255.255.255.255</td>\n",
       "      <td>UDP</td>\n",
       "      <td>217</td>\n",
       "      <td>49154 â 6666 Len=175</td>\n",
       "    </tr>\n",
       "  </tbody>\n",
       "</table>\n",
       "<p>45288 rows × 12 columns</p>\n",
       "</div>"
      ],
      "text/plain": [
       "                 time            eth.src   eth.src_resolved  \\\n",
       "226          2.240297  84:f3:eb:52:42:db  Espressi_52:42:db   \n",
       "267          5.234390  84:f3:eb:52:42:db  Espressi_52:42:db   \n",
       "288          8.234473  84:f3:eb:52:42:db  Espressi_52:42:db   \n",
       "418         11.234358  84:f3:eb:52:42:db  Espressi_52:42:db   \n",
       "441         14.234463  84:f3:eb:52:42:db  Espressi_52:42:db   \n",
       "...               ...                ...                ...   \n",
       "1920949  86385.197133  84:f3:eb:52:42:db  Espressi_52:42:db   \n",
       "1920980  86388.195877  84:f3:eb:52:42:db  Espressi_52:42:db   \n",
       "1921014  86391.197181  84:f3:eb:52:42:db  Espressi_52:42:db   \n",
       "1921025  86394.197228  84:f3:eb:52:42:db  Espressi_52:42:db   \n",
       "1921085  86397.197279  84:f3:eb:52:42:db  Espressi_52:42:db   \n",
       "\n",
       "                   eth.dst eth.dst_resolved         ip.src    ip.src_host  \\\n",
       "226      ff:ff:ff:ff:ff:ff        Broadcast  192.168.1.219  192.168.1.219   \n",
       "267      ff:ff:ff:ff:ff:ff        Broadcast  192.168.1.219  192.168.1.219   \n",
       "288      ff:ff:ff:ff:ff:ff        Broadcast  192.168.1.219  192.168.1.219   \n",
       "418      ff:ff:ff:ff:ff:ff        Broadcast  192.168.1.219  192.168.1.219   \n",
       "441      ff:ff:ff:ff:ff:ff        Broadcast  192.168.1.219  192.168.1.219   \n",
       "...                    ...              ...            ...            ...   \n",
       "1920949  ff:ff:ff:ff:ff:ff        Broadcast  192.168.1.219  192.168.1.219   \n",
       "1920980  ff:ff:ff:ff:ff:ff        Broadcast  192.168.1.219  192.168.1.219   \n",
       "1921014  ff:ff:ff:ff:ff:ff        Broadcast  192.168.1.219  192.168.1.219   \n",
       "1921025  ff:ff:ff:ff:ff:ff        Broadcast  192.168.1.219  192.168.1.219   \n",
       "1921085  ff:ff:ff:ff:ff:ff        Broadcast  192.168.1.219  192.168.1.219   \n",
       "\n",
       "                  ip.dst      ip.dst_host protocol  len  \\\n",
       "226      255.255.255.255  255.255.255.255      UDP  217   \n",
       "267      255.255.255.255  255.255.255.255      UDP  217   \n",
       "288      255.255.255.255  255.255.255.255      UDP  217   \n",
       "418      255.255.255.255  255.255.255.255      UDP  217   \n",
       "441      255.255.255.255  255.255.255.255      UDP  217   \n",
       "...                  ...              ...      ...  ...   \n",
       "1920949  255.255.255.255  255.255.255.255      UDP  217   \n",
       "1920980  255.255.255.255  255.255.255.255      UDP  217   \n",
       "1921014  255.255.255.255  255.255.255.255      UDP  217   \n",
       "1921025  255.255.255.255  255.255.255.255      UDP  217   \n",
       "1921085  255.255.255.255  255.255.255.255      UDP  217   \n",
       "\n",
       "                           info  \n",
       "226      49154 â 6666 Len=175  \n",
       "267      49154 â 6666 Len=175  \n",
       "288      49154 â 6666 Len=175  \n",
       "418      49154 â 6666 Len=175  \n",
       "441      49154 â 6666 Len=175  \n",
       "...                         ...  \n",
       "1920949  49154 â 6666 Len=175  \n",
       "1920980  49154 â 6666 Len=175  \n",
       "1921014  49154 â 6666 Len=175  \n",
       "1921025  49154 â 6666 Len=175  \n",
       "1921085  49154 â 6666 Len=175  \n",
       "\n",
       "[45288 rows x 12 columns]"
      ]
     },
     "execution_count": 28,
     "metadata": {},
     "output_type": "execute_result"
    }
   ],
   "source": [
    "df[(df['ip.src'] == '192.168.1.118') | (df['ip.dst'] == '192.168.1.118') | (df['ip.dst'] == '255.255.255.255')]\n",
    "# Note that we should also include multicasts that comprise 192.168.1.118, and broadcast"
   ]
  },
  {
   "cell_type": "markdown",
   "metadata": {},
   "source": [
    "#### LAN packets"
   ]
  },
  {
   "cell_type": "code",
   "execution_count": 29,
   "metadata": {},
   "outputs": [
    {
     "data": {
      "text/html": [
       "<div>\n",
       "<style scoped>\n",
       "    .dataframe tbody tr th:only-of-type {\n",
       "        vertical-align: middle;\n",
       "    }\n",
       "\n",
       "    .dataframe tbody tr th {\n",
       "        vertical-align: top;\n",
       "    }\n",
       "\n",
       "    .dataframe thead th {\n",
       "        text-align: right;\n",
       "    }\n",
       "</style>\n",
       "<table border=\"1\" class=\"dataframe\">\n",
       "  <thead>\n",
       "    <tr style=\"text-align: right;\">\n",
       "      <th></th>\n",
       "      <th>time</th>\n",
       "      <th>eth.src</th>\n",
       "      <th>eth.src_resolved</th>\n",
       "      <th>eth.dst</th>\n",
       "      <th>eth.dst_resolved</th>\n",
       "      <th>ip.src</th>\n",
       "      <th>ip.src_host</th>\n",
       "      <th>ip.dst</th>\n",
       "      <th>ip.dst_host</th>\n",
       "      <th>protocol</th>\n",
       "      <th>len</th>\n",
       "      <th>info</th>\n",
       "    </tr>\n",
       "  </thead>\n",
       "  <tbody>\n",
       "    <tr>\n",
       "      <th>0</th>\n",
       "      <td>0.000000</td>\n",
       "      <td>ec:1a:59:83:28:11</td>\n",
       "      <td>BelkinIn_83:28:11</td>\n",
       "      <td>14:cc:20:51:33:ea</td>\n",
       "      <td>Tp-LinkT_51:33:ea</td>\n",
       "      <td>192.168.1.165</td>\n",
       "      <td>192.168.1.165</td>\n",
       "      <td>192.168.1.1</td>\n",
       "      <td>192.168.1.1</td>\n",
       "      <td>DNS</td>\n",
       "      <td>75</td>\n",
       "      <td>Standard query 0x00e2 A tunnel.xbcs.net</td>\n",
       "    </tr>\n",
       "    <tr>\n",
       "      <th>1</th>\n",
       "      <td>0.002010</td>\n",
       "      <td>14:cc:20:51:33:ea</td>\n",
       "      <td>Tp-LinkT_51:33:ea</td>\n",
       "      <td>ec:1a:59:83:28:11</td>\n",
       "      <td>BelkinIn_83:28:11</td>\n",
       "      <td>192.168.1.1</td>\n",
       "      <td>192.168.1.1</td>\n",
       "      <td>192.168.1.165</td>\n",
       "      <td>192.168.1.165</td>\n",
       "      <td>DNS</td>\n",
       "      <td>91</td>\n",
       "      <td>Standard query response 0x00e2 A tunnel.xbcs.n...</td>\n",
       "    </tr>\n",
       "    <tr>\n",
       "      <th>2</th>\n",
       "      <td>0.002049</td>\n",
       "      <td>14:cc:20:51:33:ea</td>\n",
       "      <td>Tp-LinkT_51:33:ea</td>\n",
       "      <td>ec:1a:59:83:28:11</td>\n",
       "      <td>BelkinIn_83:28:11</td>\n",
       "      <td>192.168.1.1</td>\n",
       "      <td>192.168.1.1</td>\n",
       "      <td>192.168.1.165</td>\n",
       "      <td>192.168.1.165</td>\n",
       "      <td>DNS</td>\n",
       "      <td>91</td>\n",
       "      <td>Standard query response 0x00e2 A tunnel.xbcs.n...</td>\n",
       "    </tr>\n",
       "    <tr>\n",
       "      <th>8</th>\n",
       "      <td>0.363936</td>\n",
       "      <td>7c:70:bc:5d:5e:dc</td>\n",
       "      <td>CanaryCo_0d:5e:dc</td>\n",
       "      <td>14:cc:20:51:33:ea</td>\n",
       "      <td>Tp-LinkT_51:33:ea</td>\n",
       "      <td>192.168.1.230</td>\n",
       "      <td>192.168.1.230</td>\n",
       "      <td>192.168.1.1</td>\n",
       "      <td>192.168.1.1</td>\n",
       "      <td>DNS</td>\n",
       "      <td>74</td>\n",
       "      <td>Standard query 0x5163 A b.canaryis.com</td>\n",
       "    </tr>\n",
       "    <tr>\n",
       "      <th>9</th>\n",
       "      <td>0.402380</td>\n",
       "      <td>14:cc:20:51:33:ea</td>\n",
       "      <td>Tp-LinkT_51:33:ea</td>\n",
       "      <td>7c:70:bc:5d:5e:dc</td>\n",
       "      <td>CanaryCo_0d:5e:dc</td>\n",
       "      <td>192.168.1.1</td>\n",
       "      <td>192.168.1.1</td>\n",
       "      <td>192.168.1.230</td>\n",
       "      <td>192.168.1.230</td>\n",
       "      <td>DNS</td>\n",
       "      <td>395</td>\n",
       "      <td>Standard query response 0x5163 A b.canaryis.co...</td>\n",
       "    </tr>\n",
       "    <tr>\n",
       "      <th>...</th>\n",
       "      <td>...</td>\n",
       "      <td>...</td>\n",
       "      <td>...</td>\n",
       "      <td>...</td>\n",
       "      <td>...</td>\n",
       "      <td>...</td>\n",
       "      <td>...</td>\n",
       "      <td>...</td>\n",
       "      <td>...</td>\n",
       "      <td>...</td>\n",
       "      <td>...</td>\n",
       "      <td>...</td>\n",
       "    </tr>\n",
       "    <tr>\n",
       "      <th>1921056</th>\n",
       "      <td>86394.970772</td>\n",
       "      <td>ec:1a:59:83:28:11</td>\n",
       "      <td>BelkinIn_83:28:11</td>\n",
       "      <td>b4:75:0e:ec:e5:a9</td>\n",
       "      <td>BelkinIn_ec:e5:a9</td>\n",
       "      <td>192.168.1.165</td>\n",
       "      <td>192.168.1.165</td>\n",
       "      <td>192.168.1.245</td>\n",
       "      <td>192.168.1.245</td>\n",
       "      <td>TCP</td>\n",
       "      <td>66</td>\n",
       "      <td>49152 â 37105 [ACK] Seq=195 Ack=340 Win=5792...</td>\n",
       "    </tr>\n",
       "    <tr>\n",
       "      <th>1921079</th>\n",
       "      <td>86396.412855</td>\n",
       "      <td>ec:1a:59:83:28:11</td>\n",
       "      <td>BelkinIn_83:28:11</td>\n",
       "      <td>14:cc:20:51:33:ea</td>\n",
       "      <td>Tp-LinkT_51:33:ea</td>\n",
       "      <td>192.168.1.165</td>\n",
       "      <td>192.168.1.165</td>\n",
       "      <td>192.168.1.1</td>\n",
       "      <td>192.168.1.1</td>\n",
       "      <td>DNS</td>\n",
       "      <td>68</td>\n",
       "      <td>Standard query 0x025a A xbcs.net</td>\n",
       "    </tr>\n",
       "    <tr>\n",
       "      <th>1921080</th>\n",
       "      <td>86396.413254</td>\n",
       "      <td>14:cc:20:51:33:ea</td>\n",
       "      <td>Tp-LinkT_51:33:ea</td>\n",
       "      <td>ec:1a:59:83:28:11</td>\n",
       "      <td>BelkinIn_83:28:11</td>\n",
       "      <td>192.168.1.1</td>\n",
       "      <td>192.168.1.1</td>\n",
       "      <td>192.168.1.165</td>\n",
       "      <td>192.168.1.165</td>\n",
       "      <td>DNS</td>\n",
       "      <td>84</td>\n",
       "      <td>Standard query response 0x025a A xbcs.net A 18...</td>\n",
       "    </tr>\n",
       "    <tr>\n",
       "      <th>1921086</th>\n",
       "      <td>86397.421216</td>\n",
       "      <td>ec:1a:59:83:28:11</td>\n",
       "      <td>BelkinIn_83:28:11</td>\n",
       "      <td>14:cc:20:51:33:ea</td>\n",
       "      <td>Tp-LinkT_51:33:ea</td>\n",
       "      <td>192.168.1.165</td>\n",
       "      <td>192.168.1.165</td>\n",
       "      <td>192.168.1.1</td>\n",
       "      <td>192.168.1.1</td>\n",
       "      <td>DNS</td>\n",
       "      <td>75</td>\n",
       "      <td>Standard query 0x025b A tunnel.xbcs.net</td>\n",
       "    </tr>\n",
       "    <tr>\n",
       "      <th>1921087</th>\n",
       "      <td>86397.421610</td>\n",
       "      <td>14:cc:20:51:33:ea</td>\n",
       "      <td>Tp-LinkT_51:33:ea</td>\n",
       "      <td>ec:1a:59:83:28:11</td>\n",
       "      <td>BelkinIn_83:28:11</td>\n",
       "      <td>192.168.1.1</td>\n",
       "      <td>192.168.1.1</td>\n",
       "      <td>192.168.1.165</td>\n",
       "      <td>192.168.1.165</td>\n",
       "      <td>DNS</td>\n",
       "      <td>91</td>\n",
       "      <td>Standard query response 0x025b A tunnel.xbcs.n...</td>\n",
       "    </tr>\n",
       "  </tbody>\n",
       "</table>\n",
       "<p>395642 rows × 12 columns</p>\n",
       "</div>"
      ],
      "text/plain": [
       "                 time            eth.src   eth.src_resolved  \\\n",
       "0            0.000000  ec:1a:59:83:28:11  BelkinIn_83:28:11   \n",
       "1            0.002010  14:cc:20:51:33:ea  Tp-LinkT_51:33:ea   \n",
       "2            0.002049  14:cc:20:51:33:ea  Tp-LinkT_51:33:ea   \n",
       "8            0.363936  7c:70:bc:5d:5e:dc  CanaryCo_0d:5e:dc   \n",
       "9            0.402380  14:cc:20:51:33:ea  Tp-LinkT_51:33:ea   \n",
       "...               ...                ...                ...   \n",
       "1921056  86394.970772  ec:1a:59:83:28:11  BelkinIn_83:28:11   \n",
       "1921079  86396.412855  ec:1a:59:83:28:11  BelkinIn_83:28:11   \n",
       "1921080  86396.413254  14:cc:20:51:33:ea  Tp-LinkT_51:33:ea   \n",
       "1921086  86397.421216  ec:1a:59:83:28:11  BelkinIn_83:28:11   \n",
       "1921087  86397.421610  14:cc:20:51:33:ea  Tp-LinkT_51:33:ea   \n",
       "\n",
       "                   eth.dst   eth.dst_resolved         ip.src    ip.src_host  \\\n",
       "0        14:cc:20:51:33:ea  Tp-LinkT_51:33:ea  192.168.1.165  192.168.1.165   \n",
       "1        ec:1a:59:83:28:11  BelkinIn_83:28:11    192.168.1.1    192.168.1.1   \n",
       "2        ec:1a:59:83:28:11  BelkinIn_83:28:11    192.168.1.1    192.168.1.1   \n",
       "8        14:cc:20:51:33:ea  Tp-LinkT_51:33:ea  192.168.1.230  192.168.1.230   \n",
       "9        7c:70:bc:5d:5e:dc  CanaryCo_0d:5e:dc    192.168.1.1    192.168.1.1   \n",
       "...                    ...                ...            ...            ...   \n",
       "1921056  b4:75:0e:ec:e5:a9  BelkinIn_ec:e5:a9  192.168.1.165  192.168.1.165   \n",
       "1921079  14:cc:20:51:33:ea  Tp-LinkT_51:33:ea  192.168.1.165  192.168.1.165   \n",
       "1921080  ec:1a:59:83:28:11  BelkinIn_83:28:11    192.168.1.1    192.168.1.1   \n",
       "1921086  14:cc:20:51:33:ea  Tp-LinkT_51:33:ea  192.168.1.165  192.168.1.165   \n",
       "1921087  ec:1a:59:83:28:11  BelkinIn_83:28:11    192.168.1.1    192.168.1.1   \n",
       "\n",
       "                ip.dst    ip.dst_host protocol  len  \\\n",
       "0          192.168.1.1    192.168.1.1      DNS   75   \n",
       "1        192.168.1.165  192.168.1.165      DNS   91   \n",
       "2        192.168.1.165  192.168.1.165      DNS   91   \n",
       "8          192.168.1.1    192.168.1.1      DNS   74   \n",
       "9        192.168.1.230  192.168.1.230      DNS  395   \n",
       "...                ...            ...      ...  ...   \n",
       "1921056  192.168.1.245  192.168.1.245      TCP   66   \n",
       "1921079    192.168.1.1    192.168.1.1      DNS   68   \n",
       "1921080  192.168.1.165  192.168.1.165      DNS   84   \n",
       "1921086    192.168.1.1    192.168.1.1      DNS   75   \n",
       "1921087  192.168.1.165  192.168.1.165      DNS   91   \n",
       "\n",
       "                                                      info  \n",
       "0                  Standard query 0x00e2 A tunnel.xbcs.net  \n",
       "1        Standard query response 0x00e2 A tunnel.xbcs.n...  \n",
       "2        Standard query response 0x00e2 A tunnel.xbcs.n...  \n",
       "8                   Standard query 0x5163 A b.canaryis.com  \n",
       "9        Standard query response 0x5163 A b.canaryis.co...  \n",
       "...                                                    ...  \n",
       "1921056  49152 â 37105 [ACK] Seq=195 Ack=340 Win=5792...  \n",
       "1921079                   Standard query 0x025a A xbcs.net  \n",
       "1921080  Standard query response 0x025a A xbcs.net A 18...  \n",
       "1921086            Standard query 0x025b A tunnel.xbcs.net  \n",
       "1921087  Standard query response 0x025b A tunnel.xbcs.n...  \n",
       "\n",
       "[395642 rows x 12 columns]"
      ]
     },
     "execution_count": 29,
     "metadata": {},
     "output_type": "execute_result"
    }
   ],
   "source": [
    "df[df['ip.src'].str.startswith('192.168.') & df['ip.dst'].str.startswith('192.168.')]\n",
    "# Note that we should also include other private prefixes than 192.168."
   ]
  },
  {
   "cell_type": "code",
   "execution_count": 30,
   "metadata": {},
   "outputs": [
    {
     "data": {
      "text/plain": [
       "192.168.1.165                  207760\n",
       "192.168.1.119                  147310\n",
       "192.168.1.245                  119613\n",
       "192.168.1.106                   48328\n",
       "192.168.1.1                     45458\n",
       "192.168.1.192                   36624\n",
       "192.168.1.216                   34834\n",
       "192.168.1.230                   30019\n",
       "192.168.1.169                   23698\n",
       "192.168.1.129                   22384\n",
       "192.168.1.196                   18240\n",
       "192.168.1.239                   13977\n",
       "192.168.1.248                   12341\n",
       "192.168.1.118                    7950\n",
       "192.168.1.175                    3887\n",
       "192.168.1.120                    3606\n",
       "192.168.1.205                    3450\n",
       "192.168.1.163                    2243\n",
       "192.168.1.255                    2011\n",
       "192.168.1.112                    1741\n",
       "192.168.1.221                    1600\n",
       "192.168.1.108                    1580\n",
       "192.168.1.219                    1457\n",
       "192.168.1.165,129.132.2.21       1338\n",
       "192.168.1.1,192.168.1.216        1248\n",
       "192.168.1.236                    1060\n",
       "192.168.1.177                     708\n",
       "192.168.1.227                     590\n",
       "192.168.1.108,149.171.37.10       334\n",
       "192.168.1.168                      95\n",
       "Name: ip.dst, dtype: int64"
      ]
     },
     "execution_count": 30,
     "metadata": {},
     "output_type": "execute_result"
    }
   ],
   "source": [
    "ip_destinations[ip_destinations.index.str.startswith('192.168.')]\n",
    "# Note the bug with some address fields that contain 2 addresses"
   ]
  },
  {
   "cell_type": "code",
   "execution_count": 31,
   "metadata": {},
   "outputs": [
    {
     "data": {
      "text/plain": [
       "192.168.1.165                224561\n",
       "192.168.1.1                  180855\n",
       "192.168.1.245                118102\n",
       "192.168.1.119                102748\n",
       "192.168.1.106                 48330\n",
       "192.168.1.192                 46107\n",
       "192.168.1.129                 45037\n",
       "192.168.1.216                 39215\n",
       "192.168.1.230                 38314\n",
       "192.168.1.248                 37072\n",
       "192.168.1.219                 31702\n",
       "192.168.1.169                 25600\n",
       "192.168.1.239                 19120\n",
       "192.168.1.196                 18823\n",
       "192.168.1.118                  8042\n",
       "192.168.1.120                  4800\n",
       "192.168.1.108                  4132\n",
       "192.168.1.163                  3019\n",
       "192.168.1.221                  2292\n",
       "192.168.1.175                  2220\n",
       "192.168.1.205                  1994\n",
       "192.168.1.236                  1665\n",
       "192.168.1.112                  1612\n",
       "192.168.1.177                  1385\n",
       "192.168.1.216,192.168.1.1      1248\n",
       "192.168.1.227                  1221\n",
       "192.168.1.168                   104\n",
       "192.168.1.192,8.8.8.8             2\n",
       "Name: ip.src, dtype: int64"
      ]
     },
     "execution_count": 31,
     "metadata": {},
     "output_type": "execute_result"
    }
   ],
   "source": [
    "ip_sources[ip_sources.index.str.startswith('192.168.')]"
   ]
  },
  {
   "cell_type": "code",
   "execution_count": null,
   "metadata": {},
   "outputs": [],
   "source": []
  }
 ],
 "metadata": {
  "kernelspec": {
   "display_name": "Python 3",
   "language": "python",
   "name": "python3"
  },
  "language_info": {
   "codemirror_mode": {
    "name": "ipython",
    "version": 3
   },
   "file_extension": ".py",
   "mimetype": "text/x-python",
   "name": "python",
   "nbconvert_exporter": "python",
   "pygments_lexer": "ipython3",
   "version": "3.8.5"
  }
 },
 "nbformat": 4,
 "nbformat_minor": 4
}
