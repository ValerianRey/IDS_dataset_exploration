{
 "cells": [
  {
   "cell_type": "code",
   "execution_count": 1,
   "metadata": {},
   "outputs": [],
   "source": [
    "import pandas as pd"
   ]
  },
  {
   "cell_type": "code",
   "execution_count": 2,
   "metadata": {},
   "outputs": [],
   "source": [
    "path = './data/18-10-28_names.csv'"
   ]
  },
  {
   "cell_type": "code",
   "execution_count": 3,
   "metadata": {},
   "outputs": [],
   "source": [
    "df = pd.read_csv(path, sep='\\\\', encoding = \"ISO-8859-1\")"
   ]
  },
  {
   "cell_type": "code",
   "execution_count": 4,
   "metadata": {},
   "outputs": [],
   "source": [
    "df = df.rename(columns={\"frame.time_relative\": \"time\",\n",
    "                        \"_ws.col.Protocol\": \"protocol\",\n",
    "                        \"frame.len\": \"len\",\n",
    "                        \"_ws.col.Info\": \"info\"})"
   ]
  },
  {
   "cell_type": "code",
   "execution_count": 5,
   "metadata": {},
   "outputs": [
    {
     "data": {
      "text/html": [
       "<div>\n",
       "<style scoped>\n",
       "    .dataframe tbody tr th:only-of-type {\n",
       "        vertical-align: middle;\n",
       "    }\n",
       "\n",
       "    .dataframe tbody tr th {\n",
       "        vertical-align: top;\n",
       "    }\n",
       "\n",
       "    .dataframe thead th {\n",
       "        text-align: right;\n",
       "    }\n",
       "</style>\n",
       "<table border=\"1\" class=\"dataframe\">\n",
       "  <thead>\n",
       "    <tr style=\"text-align: right;\">\n",
       "      <th></th>\n",
       "      <th>time</th>\n",
       "      <th>eth.src</th>\n",
       "      <th>eth.src_resolved</th>\n",
       "      <th>eth.dst</th>\n",
       "      <th>eth.dst_resolved</th>\n",
       "      <th>ip.src</th>\n",
       "      <th>ip.src_host</th>\n",
       "      <th>ip.dst</th>\n",
       "      <th>ip.dst_host</th>\n",
       "      <th>protocol</th>\n",
       "      <th>len</th>\n",
       "      <th>info</th>\n",
       "    </tr>\n",
       "  </thead>\n",
       "  <tbody>\n",
       "    <tr>\n",
       "      <th>0</th>\n",
       "      <td>0.000000</td>\n",
       "      <td>f4:f2:6d:93:51:f1</td>\n",
       "      <td>Tp-LinkT_93:51:f1</td>\n",
       "      <td>14:cc:20:51:33:ea</td>\n",
       "      <td>Tp-LinkT_51:33:ea</td>\n",
       "      <td>192.168.1.108</td>\n",
       "      <td>192.168.1.108</td>\n",
       "      <td>192.168.1.1</td>\n",
       "      <td>192.168.1.1</td>\n",
       "      <td>DNS</td>\n",
       "      <td>74</td>\n",
       "      <td>Standard query 0x0002 A 0.pool.ntp.org</td>\n",
       "    </tr>\n",
       "    <tr>\n",
       "      <th>1</th>\n",
       "      <td>0.018517</td>\n",
       "      <td>14:cc:20:51:33:ea</td>\n",
       "      <td>Tp-LinkT_51:33:ea</td>\n",
       "      <td>f4:f2:6d:93:51:f1</td>\n",
       "      <td>Tp-LinkT_93:51:f1</td>\n",
       "      <td>192.168.1.1</td>\n",
       "      <td>192.168.1.1</td>\n",
       "      <td>192.168.1.108</td>\n",
       "      <td>192.168.1.108</td>\n",
       "      <td>DNS</td>\n",
       "      <td>540</td>\n",
       "      <td>Standard query response 0x0002 A 0.pool.ntp.or...</td>\n",
       "    </tr>\n",
       "    <tr>\n",
       "      <th>2</th>\n",
       "      <td>0.019904</td>\n",
       "      <td>f4:f2:6d:93:51:f1</td>\n",
       "      <td>Tp-LinkT_93:51:f1</td>\n",
       "      <td>14:cc:20:51:33:ea</td>\n",
       "      <td>Tp-LinkT_51:33:ea</td>\n",
       "      <td>192.168.1.108</td>\n",
       "      <td>192.168.1.108</td>\n",
       "      <td>116.206.80.123</td>\n",
       "      <td>116.206.80.123</td>\n",
       "      <td>NTP</td>\n",
       "      <td>90</td>\n",
       "      <td>NTP Version 3, client</td>\n",
       "    </tr>\n",
       "    <tr>\n",
       "      <th>3</th>\n",
       "      <td>0.028933</td>\n",
       "      <td>14:cc:20:51:33:ea</td>\n",
       "      <td>Tp-LinkT_51:33:ea</td>\n",
       "      <td>f4:f2:6d:93:51:f1</td>\n",
       "      <td>Tp-LinkT_93:51:f1</td>\n",
       "      <td>116.206.80.123</td>\n",
       "      <td>116.206.80.123</td>\n",
       "      <td>192.168.1.108</td>\n",
       "      <td>192.168.1.108</td>\n",
       "      <td>NTP</td>\n",
       "      <td>90</td>\n",
       "      <td>NTP Version 3, server</td>\n",
       "    </tr>\n",
       "    <tr>\n",
       "      <th>4</th>\n",
       "      <td>0.085444</td>\n",
       "      <td>b4:75:0e:ec:e5:a9</td>\n",
       "      <td>BelkinIn_ec:e5:a9</td>\n",
       "      <td>14:cc:20:51:33:ea</td>\n",
       "      <td>Tp-LinkT_51:33:ea</td>\n",
       "      <td>192.168.1.245</td>\n",
       "      <td>192.168.1.245</td>\n",
       "      <td>52.203.179.71</td>\n",
       "      <td>52.203.179.71</td>\n",
       "      <td>TLSv1.2</td>\n",
       "      <td>97</td>\n",
       "      <td>Application Data</td>\n",
       "    </tr>\n",
       "  </tbody>\n",
       "</table>\n",
       "</div>"
      ],
      "text/plain": [
       "       time            eth.src   eth.src_resolved            eth.dst  \\\n",
       "0  0.000000  f4:f2:6d:93:51:f1  Tp-LinkT_93:51:f1  14:cc:20:51:33:ea   \n",
       "1  0.018517  14:cc:20:51:33:ea  Tp-LinkT_51:33:ea  f4:f2:6d:93:51:f1   \n",
       "2  0.019904  f4:f2:6d:93:51:f1  Tp-LinkT_93:51:f1  14:cc:20:51:33:ea   \n",
       "3  0.028933  14:cc:20:51:33:ea  Tp-LinkT_51:33:ea  f4:f2:6d:93:51:f1   \n",
       "4  0.085444  b4:75:0e:ec:e5:a9  BelkinIn_ec:e5:a9  14:cc:20:51:33:ea   \n",
       "\n",
       "    eth.dst_resolved          ip.src     ip.src_host          ip.dst  \\\n",
       "0  Tp-LinkT_51:33:ea   192.168.1.108   192.168.1.108     192.168.1.1   \n",
       "1  Tp-LinkT_93:51:f1     192.168.1.1     192.168.1.1   192.168.1.108   \n",
       "2  Tp-LinkT_51:33:ea   192.168.1.108   192.168.1.108  116.206.80.123   \n",
       "3  Tp-LinkT_93:51:f1  116.206.80.123  116.206.80.123   192.168.1.108   \n",
       "4  Tp-LinkT_51:33:ea   192.168.1.245   192.168.1.245   52.203.179.71   \n",
       "\n",
       "      ip.dst_host protocol  len  \\\n",
       "0     192.168.1.1      DNS   74   \n",
       "1   192.168.1.108      DNS  540   \n",
       "2  116.206.80.123      NTP   90   \n",
       "3   192.168.1.108      NTP   90   \n",
       "4   52.203.179.71  TLSv1.2   97   \n",
       "\n",
       "                                                info  \n",
       "0             Standard query 0x0002 A 0.pool.ntp.org  \n",
       "1  Standard query response 0x0002 A 0.pool.ntp.or...  \n",
       "2                              NTP Version 3, client  \n",
       "3                              NTP Version 3, server  \n",
       "4                                   Application Data  "
      ]
     },
     "execution_count": 5,
     "metadata": {},
     "output_type": "execute_result"
    }
   ],
   "source": [
    "df.head()"
   ]
  },
  {
   "cell_type": "code",
   "execution_count": 6,
   "metadata": {},
   "outputs": [
    {
     "data": {
      "text/plain": [
       "<AxesSubplot:>"
      ]
     },
     "execution_count": 6,
     "metadata": {},
     "output_type": "execute_result"
    },
    {
     "data": {
      "image/png": "[encoded data removed]",
      "text/plain": [
       "<Figure size 432x288 with 1 Axes>"
      ]
     },
     "metadata": {
      "needs_background": "light"
     },
     "output_type": "display_data"
    }
   ],
   "source": [
    "df['protocol'].value_counts()[:20].plot(kind='bar')"
   ]
  },
  {
   "cell_type": "code",
   "execution_count": 7,
   "metadata": {},
   "outputs": [
    {
     "data": {
      "text/plain": [
       "485"
      ]
     },
     "execution_count": 7,
     "metadata": {},
     "output_type": "execute_result"
    }
   ],
   "source": [
    "ip_sources = df['ip.src'].value_counts()\n",
    "len(ip_sources)"
   ]
  },
  {
   "cell_type": "code",
   "execution_count": 8,
   "metadata": {},
   "outputs": [
    {
     "data": {
      "text/plain": [
       "<AxesSubplot:>"
      ]
     },
     "execution_count": 8,
     "metadata": {},
     "output_type": "execute_result"
    },
    {
     "data": {
      "image/png": "[encoded data removed]",
      "text/plain": [
       "<Figure size 432x288 with 1 Axes>"
      ]
     },
     "metadata": {
      "needs_background": "light"
     },
     "output_type": "display_data"
    }
   ],
   "source": [
    "ip_sources[:30].plot(kind='bar')"
   ]
  },
  {
   "cell_type": "code",
   "execution_count": 9,
   "metadata": {},
   "outputs": [
    {
     "data": {
      "text/plain": [
       "645"
      ]
     },
     "execution_count": 9,
     "metadata": {},
     "output_type": "execute_result"
    }
   ],
   "source": [
    "ip_destinations = df['ip.dst'].value_counts()\n",
    "len(ip_destinations)"
   ]
  },
  {
   "cell_type": "code",
   "execution_count": 10,
   "metadata": {},
   "outputs": [
    {
     "data": {
      "text/plain": [
       "<AxesSubplot:>"
      ]
     },
     "execution_count": 10,
     "metadata": {},
     "output_type": "execute_result"
    },
    {
     "data": {
      "image/png": "[encoded data removed]",
      "text/plain": [
       "<Figure size 432x288 with 1 Axes>"
      ]
     },
     "metadata": {
      "needs_background": "light"
     },
     "output_type": "display_data"
    }
   ],
   "source": [
    "ip_destinations[:50].plot(kind='bar')"
   ]
  },
  {
   "cell_type": "code",
   "execution_count": 11,
   "metadata": {},
   "outputs": [
    {
     "data": {
      "text/plain": [
       "28"
      ]
     },
     "execution_count": 11,
     "metadata": {},
     "output_type": "execute_result"
    }
   ],
   "source": [
    "len(df['eth.src'].value_counts())"
   ]
  },
  {
   "cell_type": "code",
   "execution_count": 12,
   "metadata": {},
   "outputs": [
    {
     "data": {
      "text/plain": [
       "<AxesSubplot:>"
      ]
     },
     "execution_count": 12,
     "metadata": {},
     "output_type": "execute_result"
    },
    {
     "data": {
      "image/png": "[encoded data removed]",
      "text/plain": [
       "<Figure size 432x288 with 1 Axes>"
      ]
     },
     "metadata": {
      "needs_background": "light"
     },
     "output_type": "display_data"
    }
   ],
   "source": [
    "df['eth.src'].value_counts()[:50].plot(kind='bar')"
   ]
  },
  {
   "cell_type": "code",
   "execution_count": 13,
   "metadata": {},
   "outputs": [
    {
     "data": {
      "text/plain": [
       "<AxesSubplot:>"
      ]
     },
     "execution_count": 13,
     "metadata": {},
     "output_type": "execute_result"
    },
    {
     "data": {
      "image/png": "[encoded data removed]",
      "text/plain": [
       "<Figure size 432x288 with 1 Axes>"
      ]
     },
     "metadata": {
      "needs_background": "light"
     },
     "output_type": "display_data"
    }
   ],
   "source": [
    "df['eth.dst'].value_counts()[:50].plot(kind='bar')"
   ]
  },
  {
   "cell_type": "code",
   "execution_count": 14,
   "metadata": {},
   "outputs": [
    {
     "data": {
      "text/plain": [
       "<AxesSubplot:>"
      ]
     },
     "execution_count": 14,
     "metadata": {},
     "output_type": "execute_result"
    },
    {
     "data": {
      "image/png": "[encoded data removed]",
      "text/plain": [
       "<Figure size 432x288 with 1 Axes>"
      ]
     },
     "metadata": {
      "needs_background": "light"
     },
     "output_type": "display_data"
    }
   ],
   "source": [
    "df['eth.src_resolved'].value_counts()[:50].plot(kind='bar')"
   ]
  },
  {
   "cell_type": "code",
   "execution_count": 15,
   "metadata": {},
   "outputs": [
    {
     "data": {
      "text/plain": [
       "<AxesSubplot:>"
      ]
     },
     "execution_count": 15,
     "metadata": {},
     "output_type": "execute_result"
    },
    {
     "data": {
      "image/png": "[encoded data removed]",
      "text/plain": [
       "<Figure size 432x288 with 1 Axes>"
      ]
     },
     "metadata": {
      "needs_background": "light"
     },
     "output_type": "display_data"
    }
   ],
   "source": [
    "df['eth.dst_resolved'].value_counts()[:30].plot(kind='bar')"
   ]
  },
  {
   "cell_type": "code",
   "execution_count": 16,
   "metadata": {},
   "outputs": [
    {
     "data": {
      "text/plain": [
       "192.168.1.1                    2930953\n",
       "192.168.1.196                  2731429\n",
       "192.168.1.165                   199126\n",
       "239.255.255.250                 165912\n",
       "192.168.1.119                   150501\n",
       "                                ...   \n",
       "134.0.16.1                           1\n",
       "139.112.153.36                       1\n",
       "192.168.1.112,163.172.77.29          1\n",
       "185.103.216.7                        1\n",
       "103.114.160.109                      1\n",
       "Name: ip.dst, Length: 645, dtype: int64"
      ]
     },
     "execution_count": 16,
     "metadata": {},
     "output_type": "execute_result"
    }
   ],
   "source": [
    "df['ip.dst'].value_counts()"
   ]
  },
  {
   "cell_type": "markdown",
   "metadata": {},
   "source": [
    "Next: check the packet that raised a warning when running tshark (1479336)\n",
    "\n",
    "mac name resolution"
   ]
  },
  {
   "cell_type": "markdown",
   "metadata": {},
   "source": [
    "### Packets that raise a warning when running tshark"
   ]
  },
  {
   "cell_type": "code",
   "execution_count": 17,
   "metadata": {},
   "outputs": [
    {
     "data": {
      "text/plain": [
       "time                                               41421\n",
       "eth.src                                d0:52:a8:00:67:5e\n",
       "eth.src_resolved                       Physical_00:67:5e\n",
       "eth.dst                                14:cc:20:51:33:ea\n",
       "eth.dst_resolved                       Tp-LinkT_51:33:ea\n",
       "ip.src                                     192.168.1.196\n",
       "ip.src_host                                192.168.1.196\n",
       "ip.dst                                       192.168.1.1\n",
       "ip.dst_host                                  192.168.1.1\n",
       "protocol                                             DNS\n",
       "len                                                   72\n",
       "info                Standard query 0x5231 A pool.ntp.org\n",
       "Name: 1479335, dtype: object"
      ]
     },
     "execution_count": 17,
     "metadata": {},
     "output_type": "execute_result"
    }
   ],
   "source": [
    "df.iloc[1479335]"
   ]
  },
  {
   "cell_type": "code",
   "execution_count": 18,
   "metadata": {},
   "outputs": [
    {
     "data": {
      "text/plain": [
       "'Standard query 0x5231 A pool.ntp.org'"
      ]
     },
     "execution_count": 18,
     "metadata": {},
     "output_type": "execute_result"
    }
   ],
   "source": [
    "df.iloc[1479335]['info']"
   ]
  },
  {
   "cell_type": "markdown",
   "metadata": {},
   "source": [
    "Seems like the info column is too long (>500)"
   ]
  },
  {
   "cell_type": "markdown",
   "metadata": {},
   "source": [
    "### Now we try to split the dataset based on IP addresses of the IoT devices"
   ]
  },
  {
   "cell_type": "markdown",
   "metadata": {},
   "source": [
    "#### Top 30 source private IP addresses"
   ]
  },
  {
   "cell_type": "code",
   "execution_count": 19,
   "metadata": {},
   "outputs": [
    {
     "data": {
      "text/plain": [
       "<AxesSubplot:>"
      ]
     },
     "execution_count": 19,
     "metadata": {},
     "output_type": "execute_result"
    },
    {
     "data": {
      "image/png": "[encoded data removed]",
      "text/plain": [
       "<Figure size 432x288 with 1 Axes>"
      ]
     },
     "metadata": {
      "needs_background": "light"
     },
     "output_type": "display_data"
    }
   ],
   "source": [
    "ip_sources[ip_sources.index.str.startswith('192.168.')][:30].plot(kind='bar')"
   ]
  },
  {
   "cell_type": "markdown",
   "metadata": {},
   "source": [
    "#### Top 30 source public IP addresses"
   ]
  },
  {
   "cell_type": "code",
   "execution_count": 20,
   "metadata": {},
   "outputs": [
    {
     "data": {
      "text/plain": [
       "<AxesSubplot:>"
      ]
     },
     "execution_count": 20,
     "metadata": {},
     "output_type": "execute_result"
    },
    {
     "data": {
      "image/png": "[encoded data removed]",
      "text/plain": [
       "<Figure size 432x288 with 1 Axes>"
      ]
     },
     "metadata": {
      "needs_background": "light"
     },
     "output_type": "display_data"
    }
   ],
   "source": [
    "ip_sources[~ ip_sources.index.str.startswith('192.168.')][:30].plot(kind='bar')"
   ]
  },
  {
   "cell_type": "markdown",
   "metadata": {},
   "source": [
    "#### 192.168.1.118 is a random IoT device, try to understand with who it communicates in the LAN"
   ]
  },
  {
   "cell_type": "code",
   "execution_count": 21,
   "metadata": {},
   "outputs": [
    {
     "data": {
      "text/plain": [
       "LifiLabs_01:83:08    7624\n",
       "Name: eth.src_resolved, dtype: int64"
      ]
     },
     "execution_count": 21,
     "metadata": {},
     "output_type": "execute_result"
    }
   ],
   "source": [
    "df[df['ip.src'] == '192.168.1.118']['eth.src_resolved'].value_counts()"
   ]
  },
  {
   "cell_type": "markdown",
   "metadata": {},
   "source": [
    "192.168.1.118 is probably a LIFX smart lamp (its MAC address is from Lifilabs)."
   ]
  },
  {
   "cell_type": "code",
   "execution_count": 22,
   "metadata": {},
   "outputs": [
    {
     "data": {
      "text/plain": [
       "Tp-LinkT_51:33:ea    7137\n",
       "Name: eth.src_resolved, dtype: int64"
      ]
     },
     "execution_count": 22,
     "metadata": {},
     "output_type": "execute_result"
    }
   ],
   "source": [
    "df[df['ip.dst'] == '192.168.1.118']['eth.src_resolved'].value_counts()"
   ]
  },
  {
   "cell_type": "markdown",
   "metadata": {},
   "source": [
    "It looks like the device with MAC 51:33:ea is the router, of the brand TP-Link"
   ]
  },
  {
   "cell_type": "code",
   "execution_count": 23,
   "metadata": {},
   "outputs": [
    {
     "data": {
      "text/plain": [
       "246        104.198.46.246\n",
       "251         192.168.1.255\n",
       "252        104.198.46.246\n",
       "420        104.198.46.246\n",
       "948        104.198.46.246\n",
       "                ...      \n",
       "7719580    104.198.46.246\n",
       "7720648    104.198.46.246\n",
       "7720663    104.198.46.246\n",
       "7720682     192.168.1.255\n",
       "7720683    104.198.46.246\n",
       "Name: ip.dst, Length: 7624, dtype: object"
      ]
     },
     "execution_count": 23,
     "metadata": {},
     "output_type": "execute_result"
    }
   ],
   "source": [
    "destinations = df[df['ip.src'] == '192.168.1.118']['ip.dst']\n",
    "destinations"
   ]
  },
  {
   "cell_type": "code",
   "execution_count": 24,
   "metadata": {},
   "outputs": [
    {
     "data": {
      "text/plain": [
       "192.168.1.255    1619\n",
       "192.168.1.1       441\n",
       "Name: ip.dst, dtype: int64"
      ]
     },
     "execution_count": 24,
     "metadata": {},
     "output_type": "execute_result"
    }
   ],
   "source": [
    "destinations[destinations.str.startswith('192.168.')].value_counts()"
   ]
  },
  {
   "cell_type": "markdown",
   "metadata": {},
   "source": [
    "There are only 2 LAN IP destinations for 192.168.1.118: 192.168.1.1 and 192.168.1.255 (I think these are the router private IP address and the LAN broadcast IP address)"
   ]
  },
  {
   "cell_type": "code",
   "execution_count": 25,
   "metadata": {},
   "outputs": [
    {
     "data": {
      "text/plain": [
       "DNS     437\n",
       "DHCP      4\n",
       "Name: protocol, dtype: int64"
      ]
     },
     "execution_count": 25,
     "metadata": {},
     "output_type": "execute_result"
    }
   ],
   "source": [
    "df[(df['ip.src'] == '192.168.1.118') & (df['ip.dst'] == '192.168.1.1')]['protocol'].value_counts()"
   ]
  },
  {
   "cell_type": "markdown",
   "metadata": {},
   "source": [
    "As we can see this communication was only used for DNS and DHCP"
   ]
  },
  {
   "cell_type": "code",
   "execution_count": 26,
   "metadata": {},
   "outputs": [
    {
     "data": {
      "text/plain": [
       "UDP             1081\n",
       "ADwin Config     538\n",
       "Name: protocol, dtype: int64"
      ]
     },
     "execution_count": 26,
     "metadata": {},
     "output_type": "execute_result"
    }
   ],
   "source": [
    "df[(df['ip.src'] == '192.168.1.118') & (df['ip.dst'] == '192.168.1.255')]['protocol'].value_counts()"
   ]
  },
  {
   "cell_type": "markdown",
   "metadata": {},
   "source": [
    "???"
   ]
  },
  {
   "cell_type": "code",
   "execution_count": 27,
   "metadata": {},
   "outputs": [
    {
     "data": {
      "text/plain": [
       "104.198.46.246    4832\n",
       "8.8.8.8            439\n",
       "216.239.32.15       39\n",
       "129.250.35.250      17\n",
       "43.245.48.27        15\n",
       "                  ... \n",
       "103.35.80.142        1\n",
       "207.148.72.47        1\n",
       "91.235.212.22        1\n",
       "45.76.244.202        1\n",
       "172.104.55.191       1\n",
       "Name: ip.dst, Length: 68, dtype: int64"
      ]
     },
     "execution_count": 27,
     "metadata": {},
     "output_type": "execute_result"
    }
   ],
   "source": [
    "destinations[~ destinations.str.startswith('192.168.')].value_counts()"
   ]
  },
  {
   "cell_type": "markdown",
   "metadata": {},
   "source": [
    "As we can see, 192.168.1.118 mainly communicates with 104.198.46.246"
   ]
  },
  {
   "cell_type": "markdown",
   "metadata": {},
   "source": [
    "According to a reverse IP lookup, the latter is owned by Google."
   ]
  },
  {
   "cell_type": "markdown",
   "metadata": {},
   "source": [
    "#### Now try to extract the traffic related to 192.168.1.118"
   ]
  },
  {
   "cell_type": "code",
   "execution_count": 28,
   "metadata": {},
   "outputs": [
    {
     "data": {
      "text/html": [
       "<div>\n",
       "<style scoped>\n",
       "    .dataframe tbody tr th:only-of-type {\n",
       "        vertical-align: middle;\n",
       "    }\n",
       "\n",
       "    .dataframe tbody tr th {\n",
       "        vertical-align: top;\n",
       "    }\n",
       "\n",
       "    .dataframe thead th {\n",
       "        text-align: right;\n",
       "    }\n",
       "</style>\n",
       "<table border=\"1\" class=\"dataframe\">\n",
       "  <thead>\n",
       "    <tr style=\"text-align: right;\">\n",
       "      <th></th>\n",
       "      <th>time</th>\n",
       "      <th>eth.src</th>\n",
       "      <th>eth.src_resolved</th>\n",
       "      <th>eth.dst</th>\n",
       "      <th>eth.dst_resolved</th>\n",
       "      <th>ip.src</th>\n",
       "      <th>ip.src_host</th>\n",
       "      <th>ip.dst</th>\n",
       "      <th>ip.dst_host</th>\n",
       "      <th>protocol</th>\n",
       "      <th>len</th>\n",
       "      <th>info</th>\n",
       "    </tr>\n",
       "  </thead>\n",
       "  <tbody>\n",
       "    <tr>\n",
       "      <th>235</th>\n",
       "      <td>1.773326</td>\n",
       "      <td>84:f3:eb:52:42:db</td>\n",
       "      <td>Espressi_52:42:db</td>\n",
       "      <td>ff:ff:ff:ff:ff:ff</td>\n",
       "      <td>Broadcast</td>\n",
       "      <td>192.168.1.219</td>\n",
       "      <td>192.168.1.219</td>\n",
       "      <td>255.255.255.255</td>\n",
       "      <td>255.255.255.255</td>\n",
       "      <td>UDP</td>\n",
       "      <td>217</td>\n",
       "      <td>49154 â 6666 Len=175</td>\n",
       "    </tr>\n",
       "    <tr>\n",
       "      <th>242</th>\n",
       "      <td>4.776186</td>\n",
       "      <td>84:f3:eb:52:42:db</td>\n",
       "      <td>Espressi_52:42:db</td>\n",
       "      <td>ff:ff:ff:ff:ff:ff</td>\n",
       "      <td>Broadcast</td>\n",
       "      <td>192.168.1.219</td>\n",
       "      <td>192.168.1.219</td>\n",
       "      <td>255.255.255.255</td>\n",
       "      <td>255.255.255.255</td>\n",
       "      <td>UDP</td>\n",
       "      <td>217</td>\n",
       "      <td>49154 â 6666 Len=175</td>\n",
       "    </tr>\n",
       "    <tr>\n",
       "      <th>245</th>\n",
       "      <td>6.553746</td>\n",
       "      <td>14:cc:20:51:33:ea</td>\n",
       "      <td>Tp-LinkT_51:33:ea</td>\n",
       "      <td>d0:73:d5:01:83:08</td>\n",
       "      <td>LifiLabs_01:83:08</td>\n",
       "      <td>104.198.46.246</td>\n",
       "      <td>104.198.46.246</td>\n",
       "      <td>192.168.1.118</td>\n",
       "      <td>192.168.1.118</td>\n",
       "      <td>TLSv1</td>\n",
       "      <td>91</td>\n",
       "      <td>Application Data</td>\n",
       "    </tr>\n",
       "    <tr>\n",
       "      <th>246</th>\n",
       "      <td>6.683274</td>\n",
       "      <td>d0:73:d5:01:83:08</td>\n",
       "      <td>LifiLabs_01:83:08</td>\n",
       "      <td>14:cc:20:51:33:ea</td>\n",
       "      <td>Tp-LinkT_51:33:ea</td>\n",
       "      <td>192.168.1.118</td>\n",
       "      <td>192.168.1.118</td>\n",
       "      <td>104.198.46.246</td>\n",
       "      <td>104.198.46.246</td>\n",
       "      <td>TCP</td>\n",
       "      <td>54</td>\n",
       "      <td>21210 â 56700 [ACK] Seq=1 Ack=38 Win=1460 Len=0</td>\n",
       "    </tr>\n",
       "    <tr>\n",
       "      <th>250</th>\n",
       "      <td>6.857155</td>\n",
       "      <td>14:cc:20:51:33:ea</td>\n",
       "      <td>Tp-LinkT_51:33:ea</td>\n",
       "      <td>d0:73:d5:01:83:08</td>\n",
       "      <td>LifiLabs_01:83:08</td>\n",
       "      <td>104.198.46.246</td>\n",
       "      <td>104.198.46.246</td>\n",
       "      <td>192.168.1.118</td>\n",
       "      <td>192.168.1.118</td>\n",
       "      <td>TLSv1</td>\n",
       "      <td>123</td>\n",
       "      <td>Application Data</td>\n",
       "    </tr>\n",
       "    <tr>\n",
       "      <th>...</th>\n",
       "      <td>...</td>\n",
       "      <td>...</td>\n",
       "      <td>...</td>\n",
       "      <td>...</td>\n",
       "      <td>...</td>\n",
       "      <td>...</td>\n",
       "      <td>...</td>\n",
       "      <td>...</td>\n",
       "      <td>...</td>\n",
       "      <td>...</td>\n",
       "      <td>...</td>\n",
       "      <td>...</td>\n",
       "    </tr>\n",
       "    <tr>\n",
       "      <th>7720806</th>\n",
       "      <td>86383.896253</td>\n",
       "      <td>84:f3:eb:52:42:db</td>\n",
       "      <td>Espressi_52:42:db</td>\n",
       "      <td>ff:ff:ff:ff:ff:ff</td>\n",
       "      <td>Broadcast</td>\n",
       "      <td>192.168.1.219</td>\n",
       "      <td>192.168.1.219</td>\n",
       "      <td>255.255.255.255</td>\n",
       "      <td>255.255.255.255</td>\n",
       "      <td>UDP</td>\n",
       "      <td>217</td>\n",
       "      <td>49154 â 6666 Len=175</td>\n",
       "    </tr>\n",
       "    <tr>\n",
       "      <th>7720823</th>\n",
       "      <td>86386.896360</td>\n",
       "      <td>84:f3:eb:52:42:db</td>\n",
       "      <td>Espressi_52:42:db</td>\n",
       "      <td>ff:ff:ff:ff:ff:ff</td>\n",
       "      <td>Broadcast</td>\n",
       "      <td>192.168.1.219</td>\n",
       "      <td>192.168.1.219</td>\n",
       "      <td>255.255.255.255</td>\n",
       "      <td>255.255.255.255</td>\n",
       "      <td>UDP</td>\n",
       "      <td>217</td>\n",
       "      <td>49154 â 6666 Len=175</td>\n",
       "    </tr>\n",
       "    <tr>\n",
       "      <th>7720848</th>\n",
       "      <td>86389.896552</td>\n",
       "      <td>84:f3:eb:52:42:db</td>\n",
       "      <td>Espressi_52:42:db</td>\n",
       "      <td>ff:ff:ff:ff:ff:ff</td>\n",
       "      <td>Broadcast</td>\n",
       "      <td>192.168.1.219</td>\n",
       "      <td>192.168.1.219</td>\n",
       "      <td>255.255.255.255</td>\n",
       "      <td>255.255.255.255</td>\n",
       "      <td>UDP</td>\n",
       "      <td>217</td>\n",
       "      <td>49154 â 6666 Len=175</td>\n",
       "    </tr>\n",
       "    <tr>\n",
       "      <th>7720880</th>\n",
       "      <td>86392.896361</td>\n",
       "      <td>84:f3:eb:52:42:db</td>\n",
       "      <td>Espressi_52:42:db</td>\n",
       "      <td>ff:ff:ff:ff:ff:ff</td>\n",
       "      <td>Broadcast</td>\n",
       "      <td>192.168.1.219</td>\n",
       "      <td>192.168.1.219</td>\n",
       "      <td>255.255.255.255</td>\n",
       "      <td>255.255.255.255</td>\n",
       "      <td>UDP</td>\n",
       "      <td>217</td>\n",
       "      <td>49154 â 6666 Len=175</td>\n",
       "    </tr>\n",
       "    <tr>\n",
       "      <th>7720891</th>\n",
       "      <td>86395.896413</td>\n",
       "      <td>84:f3:eb:52:42:db</td>\n",
       "      <td>Espressi_52:42:db</td>\n",
       "      <td>ff:ff:ff:ff:ff:ff</td>\n",
       "      <td>Broadcast</td>\n",
       "      <td>192.168.1.219</td>\n",
       "      <td>192.168.1.219</td>\n",
       "      <td>255.255.255.255</td>\n",
       "      <td>255.255.255.255</td>\n",
       "      <td>UDP</td>\n",
       "      <td>217</td>\n",
       "      <td>49154 â 6666 Len=175</td>\n",
       "    </tr>\n",
       "  </tbody>\n",
       "</table>\n",
       "<p>46994 rows × 12 columns</p>\n",
       "</div>"
      ],
      "text/plain": [
       "                 time            eth.src   eth.src_resolved  \\\n",
       "235          1.773326  84:f3:eb:52:42:db  Espressi_52:42:db   \n",
       "242          4.776186  84:f3:eb:52:42:db  Espressi_52:42:db   \n",
       "245          6.553746  14:cc:20:51:33:ea  Tp-LinkT_51:33:ea   \n",
       "246          6.683274  d0:73:d5:01:83:08  LifiLabs_01:83:08   \n",
       "250          6.857155  14:cc:20:51:33:ea  Tp-LinkT_51:33:ea   \n",
       "...               ...                ...                ...   \n",
       "7720806  86383.896253  84:f3:eb:52:42:db  Espressi_52:42:db   \n",
       "7720823  86386.896360  84:f3:eb:52:42:db  Espressi_52:42:db   \n",
       "7720848  86389.896552  84:f3:eb:52:42:db  Espressi_52:42:db   \n",
       "7720880  86392.896361  84:f3:eb:52:42:db  Espressi_52:42:db   \n",
       "7720891  86395.896413  84:f3:eb:52:42:db  Espressi_52:42:db   \n",
       "\n",
       "                   eth.dst   eth.dst_resolved          ip.src     ip.src_host  \\\n",
       "235      ff:ff:ff:ff:ff:ff          Broadcast   192.168.1.219   192.168.1.219   \n",
       "242      ff:ff:ff:ff:ff:ff          Broadcast   192.168.1.219   192.168.1.219   \n",
       "245      d0:73:d5:01:83:08  LifiLabs_01:83:08  104.198.46.246  104.198.46.246   \n",
       "246      14:cc:20:51:33:ea  Tp-LinkT_51:33:ea   192.168.1.118   192.168.1.118   \n",
       "250      d0:73:d5:01:83:08  LifiLabs_01:83:08  104.198.46.246  104.198.46.246   \n",
       "...                    ...                ...             ...             ...   \n",
       "7720806  ff:ff:ff:ff:ff:ff          Broadcast   192.168.1.219   192.168.1.219   \n",
       "7720823  ff:ff:ff:ff:ff:ff          Broadcast   192.168.1.219   192.168.1.219   \n",
       "7720848  ff:ff:ff:ff:ff:ff          Broadcast   192.168.1.219   192.168.1.219   \n",
       "7720880  ff:ff:ff:ff:ff:ff          Broadcast   192.168.1.219   192.168.1.219   \n",
       "7720891  ff:ff:ff:ff:ff:ff          Broadcast   192.168.1.219   192.168.1.219   \n",
       "\n",
       "                  ip.dst      ip.dst_host protocol  len  \\\n",
       "235      255.255.255.255  255.255.255.255      UDP  217   \n",
       "242      255.255.255.255  255.255.255.255      UDP  217   \n",
       "245        192.168.1.118    192.168.1.118    TLSv1   91   \n",
       "246       104.198.46.246   104.198.46.246      TCP   54   \n",
       "250        192.168.1.118    192.168.1.118    TLSv1  123   \n",
       "...                  ...              ...      ...  ...   \n",
       "7720806  255.255.255.255  255.255.255.255      UDP  217   \n",
       "7720823  255.255.255.255  255.255.255.255      UDP  217   \n",
       "7720848  255.255.255.255  255.255.255.255      UDP  217   \n",
       "7720880  255.255.255.255  255.255.255.255      UDP  217   \n",
       "7720891  255.255.255.255  255.255.255.255      UDP  217   \n",
       "\n",
       "                                                      info  \n",
       "235                                 49154 â 6666 Len=175  \n",
       "242                                 49154 â 6666 Len=175  \n",
       "245                                       Application Data  \n",
       "246      21210 â 56700 [ACK] Seq=1 Ack=38 Win=1460 Len=0  \n",
       "250                                       Application Data  \n",
       "...                                                    ...  \n",
       "7720806                             49154 â 6666 Len=175  \n",
       "7720823                             49154 â 6666 Len=175  \n",
       "7720848                             49154 â 6666 Len=175  \n",
       "7720880                             49154 â 6666 Len=175  \n",
       "7720891                             49154 â 6666 Len=175  \n",
       "\n",
       "[46994 rows x 12 columns]"
      ]
     },
     "execution_count": 28,
     "metadata": {},
     "output_type": "execute_result"
    }
   ],
   "source": [
    "df[(df['ip.src'] == '192.168.1.118') | (df['ip.dst'] == '192.168.1.118') | (df['ip.dst'] == '255.255.255.255')]\n",
    "# Note that we should also include multicasts that comprise 192.168.1.118, and broadcast"
   ]
  },
  {
   "cell_type": "markdown",
   "metadata": {},
   "source": [
    "#### LAN packets"
   ]
  },
  {
   "cell_type": "code",
   "execution_count": 29,
   "metadata": {},
   "outputs": [
    {
     "data": {
      "text/html": [
       "<div>\n",
       "<style scoped>\n",
       "    .dataframe tbody tr th:only-of-type {\n",
       "        vertical-align: middle;\n",
       "    }\n",
       "\n",
       "    .dataframe tbody tr th {\n",
       "        vertical-align: top;\n",
       "    }\n",
       "\n",
       "    .dataframe thead th {\n",
       "        text-align: right;\n",
       "    }\n",
       "</style>\n",
       "<table border=\"1\" class=\"dataframe\">\n",
       "  <thead>\n",
       "    <tr style=\"text-align: right;\">\n",
       "      <th></th>\n",
       "      <th>time</th>\n",
       "      <th>eth.src</th>\n",
       "      <th>eth.src_resolved</th>\n",
       "      <th>eth.dst</th>\n",
       "      <th>eth.dst_resolved</th>\n",
       "      <th>ip.src</th>\n",
       "      <th>ip.src_host</th>\n",
       "      <th>ip.dst</th>\n",
       "      <th>ip.dst_host</th>\n",
       "      <th>protocol</th>\n",
       "      <th>len</th>\n",
       "      <th>info</th>\n",
       "    </tr>\n",
       "  </thead>\n",
       "  <tbody>\n",
       "    <tr>\n",
       "      <th>0</th>\n",
       "      <td>0.000000</td>\n",
       "      <td>f4:f2:6d:93:51:f1</td>\n",
       "      <td>Tp-LinkT_93:51:f1</td>\n",
       "      <td>14:cc:20:51:33:ea</td>\n",
       "      <td>Tp-LinkT_51:33:ea</td>\n",
       "      <td>192.168.1.108</td>\n",
       "      <td>192.168.1.108</td>\n",
       "      <td>192.168.1.1</td>\n",
       "      <td>192.168.1.1</td>\n",
       "      <td>DNS</td>\n",
       "      <td>74</td>\n",
       "      <td>Standard query 0x0002 A 0.pool.ntp.org</td>\n",
       "    </tr>\n",
       "    <tr>\n",
       "      <th>1</th>\n",
       "      <td>0.018517</td>\n",
       "      <td>14:cc:20:51:33:ea</td>\n",
       "      <td>Tp-LinkT_51:33:ea</td>\n",
       "      <td>f4:f2:6d:93:51:f1</td>\n",
       "      <td>Tp-LinkT_93:51:f1</td>\n",
       "      <td>192.168.1.1</td>\n",
       "      <td>192.168.1.1</td>\n",
       "      <td>192.168.1.108</td>\n",
       "      <td>192.168.1.108</td>\n",
       "      <td>DNS</td>\n",
       "      <td>540</td>\n",
       "      <td>Standard query response 0x0002 A 0.pool.ntp.or...</td>\n",
       "    </tr>\n",
       "    <tr>\n",
       "      <th>118</th>\n",
       "      <td>0.761859</td>\n",
       "      <td>ec:1a:59:83:28:11</td>\n",
       "      <td>BelkinIn_83:28:11</td>\n",
       "      <td>14:cc:20:51:33:ea</td>\n",
       "      <td>Tp-LinkT_51:33:ea</td>\n",
       "      <td>192.168.1.165</td>\n",
       "      <td>192.168.1.165</td>\n",
       "      <td>192.168.1.1</td>\n",
       "      <td>192.168.1.1</td>\n",
       "      <td>DNS</td>\n",
       "      <td>68</td>\n",
       "      <td>Standard query 0x05b6 A xbcs.net</td>\n",
       "    </tr>\n",
       "    <tr>\n",
       "      <th>119</th>\n",
       "      <td>0.765004</td>\n",
       "      <td>14:cc:20:51:33:ea</td>\n",
       "      <td>Tp-LinkT_51:33:ea</td>\n",
       "      <td>ec:1a:59:83:28:11</td>\n",
       "      <td>BelkinIn_83:28:11</td>\n",
       "      <td>192.168.1.1</td>\n",
       "      <td>192.168.1.1</td>\n",
       "      <td>192.168.1.165</td>\n",
       "      <td>192.168.1.165</td>\n",
       "      <td>DNS</td>\n",
       "      <td>84</td>\n",
       "      <td>Standard query response 0x05b6 A xbcs.net A 18...</td>\n",
       "    </tr>\n",
       "    <tr>\n",
       "      <th>120</th>\n",
       "      <td>0.765041</td>\n",
       "      <td>14:cc:20:51:33:ea</td>\n",
       "      <td>Tp-LinkT_51:33:ea</td>\n",
       "      <td>ec:1a:59:83:28:11</td>\n",
       "      <td>BelkinIn_83:28:11</td>\n",
       "      <td>192.168.1.1</td>\n",
       "      <td>192.168.1.1</td>\n",
       "      <td>192.168.1.165</td>\n",
       "      <td>192.168.1.165</td>\n",
       "      <td>DNS</td>\n",
       "      <td>84</td>\n",
       "      <td>Standard query response 0x05b6 A xbcs.net A 18...</td>\n",
       "    </tr>\n",
       "    <tr>\n",
       "      <th>...</th>\n",
       "      <td>...</td>\n",
       "      <td>...</td>\n",
       "      <td>...</td>\n",
       "      <td>...</td>\n",
       "      <td>...</td>\n",
       "      <td>...</td>\n",
       "      <td>...</td>\n",
       "      <td>...</td>\n",
       "      <td>...</td>\n",
       "      <td>...</td>\n",
       "      <td>...</td>\n",
       "      <td>...</td>\n",
       "    </tr>\n",
       "    <tr>\n",
       "      <th>7720843</th>\n",
       "      <td>86388.845446</td>\n",
       "      <td>ec:1a:59:83:28:11</td>\n",
       "      <td>BelkinIn_83:28:11</td>\n",
       "      <td>b4:75:0e:ec:e5:a9</td>\n",
       "      <td>BelkinIn_ec:e5:a9</td>\n",
       "      <td>192.168.1.165</td>\n",
       "      <td>192.168.1.165</td>\n",
       "      <td>192.168.1.245</td>\n",
       "      <td>192.168.1.245</td>\n",
       "      <td>TCP</td>\n",
       "      <td>66</td>\n",
       "      <td>3147 â 49153 [FIN, ACK] Seq=321 Ack=169 Win=...</td>\n",
       "    </tr>\n",
       "    <tr>\n",
       "      <th>7720844</th>\n",
       "      <td>86388.846849</td>\n",
       "      <td>ec:1a:59:83:28:11</td>\n",
       "      <td>BelkinIn_83:28:11</td>\n",
       "      <td>b4:75:0e:ec:e5:a9</td>\n",
       "      <td>BelkinIn_ec:e5:a9</td>\n",
       "      <td>192.168.1.165</td>\n",
       "      <td>192.168.1.165</td>\n",
       "      <td>192.168.1.245</td>\n",
       "      <td>192.168.1.245</td>\n",
       "      <td>TCP</td>\n",
       "      <td>66</td>\n",
       "      <td>3147 â 49153 [ACK] Seq=322 Ack=170 Win=5840 ...</td>\n",
       "    </tr>\n",
       "    <tr>\n",
       "      <th>7720845</th>\n",
       "      <td>86388.847918</td>\n",
       "      <td>b4:75:0e:ec:e5:a9</td>\n",
       "      <td>BelkinIn_ec:e5:a9</td>\n",
       "      <td>ec:1a:59:83:28:11</td>\n",
       "      <td>BelkinIn_83:28:11</td>\n",
       "      <td>192.168.1.245</td>\n",
       "      <td>192.168.1.245</td>\n",
       "      <td>192.168.1.165</td>\n",
       "      <td>192.168.1.165</td>\n",
       "      <td>TCP</td>\n",
       "      <td>66</td>\n",
       "      <td>49153 â 3147 [ACK] Seq=170 Ack=322 Win=5792 ...</td>\n",
       "    </tr>\n",
       "    <tr>\n",
       "      <th>7720882</th>\n",
       "      <td>86393.648771</td>\n",
       "      <td>ec:1a:59:83:28:11</td>\n",
       "      <td>BelkinIn_83:28:11</td>\n",
       "      <td>14:cc:20:51:33:ea</td>\n",
       "      <td>Tp-LinkT_51:33:ea</td>\n",
       "      <td>192.168.1.165</td>\n",
       "      <td>192.168.1.165</td>\n",
       "      <td>192.168.1.1</td>\n",
       "      <td>192.168.1.1</td>\n",
       "      <td>DNS</td>\n",
       "      <td>68</td>\n",
       "      <td>Standard query 0x00e1 A xbcs.net</td>\n",
       "    </tr>\n",
       "    <tr>\n",
       "      <th>7720883</th>\n",
       "      <td>86393.652571</td>\n",
       "      <td>14:cc:20:51:33:ea</td>\n",
       "      <td>Tp-LinkT_51:33:ea</td>\n",
       "      <td>ec:1a:59:83:28:11</td>\n",
       "      <td>BelkinIn_83:28:11</td>\n",
       "      <td>192.168.1.1</td>\n",
       "      <td>192.168.1.1</td>\n",
       "      <td>192.168.1.165</td>\n",
       "      <td>192.168.1.165</td>\n",
       "      <td>DNS</td>\n",
       "      <td>84</td>\n",
       "      <td>Standard query response 0x00e1 A xbcs.net A 18...</td>\n",
       "    </tr>\n",
       "  </tbody>\n",
       "</table>\n",
       "<p>6057405 rows × 12 columns</p>\n",
       "</div>"
      ],
      "text/plain": [
       "                 time            eth.src   eth.src_resolved  \\\n",
       "0            0.000000  f4:f2:6d:93:51:f1  Tp-LinkT_93:51:f1   \n",
       "1            0.018517  14:cc:20:51:33:ea  Tp-LinkT_51:33:ea   \n",
       "118          0.761859  ec:1a:59:83:28:11  BelkinIn_83:28:11   \n",
       "119          0.765004  14:cc:20:51:33:ea  Tp-LinkT_51:33:ea   \n",
       "120          0.765041  14:cc:20:51:33:ea  Tp-LinkT_51:33:ea   \n",
       "...               ...                ...                ...   \n",
       "7720843  86388.845446  ec:1a:59:83:28:11  BelkinIn_83:28:11   \n",
       "7720844  86388.846849  ec:1a:59:83:28:11  BelkinIn_83:28:11   \n",
       "7720845  86388.847918  b4:75:0e:ec:e5:a9  BelkinIn_ec:e5:a9   \n",
       "7720882  86393.648771  ec:1a:59:83:28:11  BelkinIn_83:28:11   \n",
       "7720883  86393.652571  14:cc:20:51:33:ea  Tp-LinkT_51:33:ea   \n",
       "\n",
       "                   eth.dst   eth.dst_resolved         ip.src    ip.src_host  \\\n",
       "0        14:cc:20:51:33:ea  Tp-LinkT_51:33:ea  192.168.1.108  192.168.1.108   \n",
       "1        f4:f2:6d:93:51:f1  Tp-LinkT_93:51:f1    192.168.1.1    192.168.1.1   \n",
       "118      14:cc:20:51:33:ea  Tp-LinkT_51:33:ea  192.168.1.165  192.168.1.165   \n",
       "119      ec:1a:59:83:28:11  BelkinIn_83:28:11    192.168.1.1    192.168.1.1   \n",
       "120      ec:1a:59:83:28:11  BelkinIn_83:28:11    192.168.1.1    192.168.1.1   \n",
       "...                    ...                ...            ...            ...   \n",
       "7720843  b4:75:0e:ec:e5:a9  BelkinIn_ec:e5:a9  192.168.1.165  192.168.1.165   \n",
       "7720844  b4:75:0e:ec:e5:a9  BelkinIn_ec:e5:a9  192.168.1.165  192.168.1.165   \n",
       "7720845  ec:1a:59:83:28:11  BelkinIn_83:28:11  192.168.1.245  192.168.1.245   \n",
       "7720882  14:cc:20:51:33:ea  Tp-LinkT_51:33:ea  192.168.1.165  192.168.1.165   \n",
       "7720883  ec:1a:59:83:28:11  BelkinIn_83:28:11    192.168.1.1    192.168.1.1   \n",
       "\n",
       "                ip.dst    ip.dst_host protocol  len  \\\n",
       "0          192.168.1.1    192.168.1.1      DNS   74   \n",
       "1        192.168.1.108  192.168.1.108      DNS  540   \n",
       "118        192.168.1.1    192.168.1.1      DNS   68   \n",
       "119      192.168.1.165  192.168.1.165      DNS   84   \n",
       "120      192.168.1.165  192.168.1.165      DNS   84   \n",
       "...                ...            ...      ...  ...   \n",
       "7720843  192.168.1.245  192.168.1.245      TCP   66   \n",
       "7720844  192.168.1.245  192.168.1.245      TCP   66   \n",
       "7720845  192.168.1.165  192.168.1.165      TCP   66   \n",
       "7720882    192.168.1.1    192.168.1.1      DNS   68   \n",
       "7720883  192.168.1.165  192.168.1.165      DNS   84   \n",
       "\n",
       "                                                      info  \n",
       "0                   Standard query 0x0002 A 0.pool.ntp.org  \n",
       "1        Standard query response 0x0002 A 0.pool.ntp.or...  \n",
       "118                       Standard query 0x05b6 A xbcs.net  \n",
       "119      Standard query response 0x05b6 A xbcs.net A 18...  \n",
       "120      Standard query response 0x05b6 A xbcs.net A 18...  \n",
       "...                                                    ...  \n",
       "7720843  3147 â 49153 [FIN, ACK] Seq=321 Ack=169 Win=...  \n",
       "7720844  3147 â 49153 [ACK] Seq=322 Ack=170 Win=5840 ...  \n",
       "7720845  49153 â 3147 [ACK] Seq=170 Ack=322 Win=5792 ...  \n",
       "7720882                   Standard query 0x00e1 A xbcs.net  \n",
       "7720883  Standard query response 0x00e1 A xbcs.net A 18...  \n",
       "\n",
       "[6057405 rows x 12 columns]"
      ]
     },
     "execution_count": 29,
     "metadata": {},
     "output_type": "execute_result"
    }
   ],
   "source": [
    "df[df['ip.src'].str.startswith('192.168.') & df['ip.dst'].str.startswith('192.168.')]\n",
    "# Note that we should also include other private prefixes than 192.168."
   ]
  },
  {
   "cell_type": "code",
   "execution_count": 30,
   "metadata": {},
   "outputs": [
    {
     "data": {
      "text/plain": [
       "192.168.1.1                     2930953\n",
       "192.168.1.196                   2731429\n",
       "192.168.1.165                    199126\n",
       "192.168.1.119                    150501\n",
       "192.168.1.245                    127575\n",
       "                                 ...   \n",
       "192.168.1.175,91.189.91.157           1\n",
       "192.168.1.221,34.231.76.82            1\n",
       "192.168.1.216,52.193.63.245           1\n",
       "192.168.1.239,69.164.202.202          1\n",
       "192.168.1.112,163.172.77.29           1\n",
       "Name: ip.dst, Length: 207, dtype: int64"
      ]
     },
     "execution_count": 30,
     "metadata": {},
     "output_type": "execute_result"
    }
   ],
   "source": [
    "ip_destinations[ip_destinations.index.str.startswith('192.168.')]\n",
    "# Note the bug with some address fields that contain 2 addresses"
   ]
  },
  {
   "cell_type": "code",
   "execution_count": 31,
   "metadata": {},
   "outputs": [
    {
     "data": {
      "text/plain": [
       "192.168.1.1                    2958368\n",
       "192.168.1.196                  2740730\n",
       "192.168.1.165                   214158\n",
       "192.168.1.119                   202539\n",
       "192.168.1.192                   149705\n",
       "192.168.1.245                   132001\n",
       "192.168.1.129                    48454\n",
       "192.168.1.230                    46997\n",
       "192.168.1.106                    45635\n",
       "192.168.1.216                    44682\n",
       "192.168.1.248                    37324\n",
       "192.168.1.219                    37271\n",
       "192.168.1.169                    27012\n",
       "192.168.1.239                    21065\n",
       "192.168.1.120                    11099\n",
       "192.168.1.221                    10238\n",
       "192.168.1.118                     7624\n",
       "192.168.1.163                     7168\n",
       "192.168.1.108                     5614\n",
       "192.168.1.227                     2293\n",
       "192.168.1.205                     2002\n",
       "192.168.1.236                     1950\n",
       "192.168.1.112                     1695\n",
       "192.168.1.177                     1338\n",
       "192.168.1.1,192.168.1.216         1187\n",
       "192.168.1.216,192.168.1.1         1136\n",
       "192.168.1.1,192.168.1.106          492\n",
       "192.168.1.1,192.168.1.239          486\n",
       "192.168.1.175                      338\n",
       "192.168.1.1,192.168.1.221          250\n",
       "192.168.1.1,192.168.1.169          208\n",
       "192.168.1.120,192.168.1.1          179\n",
       "192.168.1.1,192.168.1.165          100\n",
       "192.168.1.1,192.168.1.118           48\n",
       "192.168.1.245,192.168.1.129         36\n",
       "192.168.1.1,192.168.1.245           36\n",
       "192.168.1.1,192.168.1.129           23\n",
       "192.168.1.168                       13\n",
       "192.168.1.119,8.8.8.8               12\n",
       "192.168.1.192,8.8.8.8               10\n",
       "192.168.1.119,192.168.1.1            4\n",
       "192.168.1.1,192.168.1.119            2\n",
       "192.168.1.1,192.168.1.192            2\n",
       "192.168.1.245,192.168.1.1            1\n",
       "192.168.1.108,13.250.43.63           1\n",
       "192.168.1.239,192.168.1.1            1\n",
       "Name: ip.src, dtype: int64"
      ]
     },
     "execution_count": 31,
     "metadata": {},
     "output_type": "execute_result"
    }
   ],
   "source": [
    "ip_sources[ip_sources.index.str.startswith('192.168.')]"
   ]
  },
  {
   "cell_type": "code",
   "execution_count": null,
   "metadata": {},
   "outputs": [],
   "source": []
  }
 ],
 "metadata": {
  "kernelspec": {
   "display_name": "Python 3",
   "language": "python",
   "name": "python3"
  },
  "language_info": {
   "codemirror_mode": {
    "name": "ipython",
    "version": 3
   },
   "file_extension": ".py",
   "mimetype": "text/x-python",
   "name": "python",
   "nbconvert_exporter": "python",
   "pygments_lexer": "ipython3",
   "version": "3.8.5"
  }
 },
 "nbformat": 4,
 "nbformat_minor": 4
}
